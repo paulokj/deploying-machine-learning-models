{
  "nbformat": 4,
  "nbformat_minor": 0,
  "metadata": {
    "colab": {
      "provenance": [],
      "toc_visible": true,
      "include_colab_link": true
    },
    "kernelspec": {
      "name": "python3",
      "display_name": "Python 3"
    },
    "language_info": {
      "name": "python"
    }
  },
  "cells": [
    {
      "cell_type": "markdown",
      "metadata": {
        "id": "view-in-github",
        "colab_type": "text"
      },
      "source": [
        "<a href=\"https://colab.research.google.com/github/paulokj/deploying-machine-learning-models/blob/master/CS_JokeRatingPrediction.ipynb\" target=\"_parent\"><img src=\"https://colab.research.google.com/assets/colab-badge.svg\" alt=\"Open In Colab\"/></a>"
      ]
    },
    {
      "cell_type": "markdown",
      "source": [
        "<hr>\n",
        "\n",
        "# **Jokes Rating Prediction**\n",
        "\n",
        "**Author: Intellipaat**\n",
        "\n",
        "**Link for the dataset: https://www.kaggle.com/datasets/vikashrajluhaniwal/jester-17m-jokes-ratings-dataset/download?datasetVersionNumber=3**\n",
        "\n",
        "<hr>\n",
        "\n",
        "# **Problem Statement**\n",
        "\n",
        "**Online stores and entertainment platforms like Netflix depend heavily on what customers think. Reviews and ratings are crucial for these businesses, especially when recommending products or content. Netflix uses ratings to suggest movies and shows that each user is likely to enjoy based on what they've liked before.**\n",
        "\n",
        "**This task involves predicting how users would rate a new group of jokes, considering how they rated other jokes in the past. The data comes from a popular joke recommendation system called Jester.**"
      ],
      "metadata": {
        "id": "Jxea0amYXRTY"
      }
    },
    {
      "cell_type": "markdown",
      "source": [
        "<hr>\n",
        "\n",
        "# **Content**\n",
        "  * **The dataset contains over 1.7 million continuous ratings (-10.00 to +10.00) of 150 jokes from 59,132 users.**\n",
        "  * **The dataset is collected between November 2006 - May 2009.**\n",
        "  * **The complete dataset has two CSV files:-**\n",
        "    * **jester_ratings.csv: Each row is formatted as [User ID] [Item ID] [Rating]**\n",
        "    * **jester_items.csv: Maps item ID's to jokes**\n",
        "\n",
        "      **The ratings are real values ranging from -10.00 to +10.00.**"
      ],
      "metadata": {
        "id": "EJbc792PXWcq"
      }
    },
    {
      "cell_type": "markdown",
      "source": [
        "<hr>\n",
        "\n",
        "# **Step 1 - Importing of Libraries**"
      ],
      "metadata": {
        "id": "8IC30wOPYcA1"
      }
    },
    {
      "cell_type": "markdown",
      "source": [
        "**1. Configuration Libraries**"
      ],
      "metadata": {
        "id": "QSyXv93BVVkA"
      }
    },
    {
      "cell_type": "code",
      "source": [
        "import warnings\n",
        "warnings.filterwarnings('ignore')"
      ],
      "metadata": {
        "id": "kmu5XaFCVAjL"
      },
      "execution_count": null,
      "outputs": []
    },
    {
      "cell_type": "markdown",
      "source": [
        "**2. Mandatory Libraries**"
      ],
      "metadata": {
        "id": "QvKi6VtoVZ7l"
      }
    },
    {
      "cell_type": "code",
      "source": [
        "import numpy as np\n",
        "import pandas as pd\n",
        "import seaborn as sns\n",
        "import matplotlib.pyplot as plt"
      ],
      "metadata": {
        "id": "Rm0gtwchVUrU"
      },
      "execution_count": null,
      "outputs": []
    },
    {
      "cell_type": "markdown",
      "source": [
        "**3. Required Libraries**"
      ],
      "metadata": {
        "id": "S6PDmEtIxEOP"
      }
    },
    {
      "cell_type": "code",
      "source": [
        "from sklearn.metrics import *\n",
        "from xgboost import XGBClassifier\n",
        "from nltk.tokenize import RegexpTokenizer\n",
        "from sklearn.tree import DecisionTreeClassifier\n",
        "from sklearn.linear_model import LogisticRegression\n",
        "from sklearn.ensemble import RandomForestClassifier\n",
        "from sklearn.model_selection import train_test_split\n",
        "from sklearn.feature_extraction.text import TfidfVectorizer\n",
        "from sklearn.feature_extraction.text import CountVectorizer"
      ],
      "metadata": {
        "id": "XEppblg-xIhC"
      },
      "execution_count": null,
      "outputs": []
    },
    {
      "cell_type": "markdown",
      "source": [
        "<hr>\n",
        "\n",
        "# **Step 2 - Data Loading**"
      ],
      "metadata": {
        "id": "XnpTHjilYpMk"
      }
    },
    {
      "cell_type": "markdown",
      "source": [
        "**We have two datasets to work on.**"
      ],
      "metadata": {
        "id": "Gd7kiyOMYskQ"
      }
    },
    {
      "cell_type": "code",
      "execution_count": null,
      "metadata": {
        "id": "3eqXz-Z6V3-b"
      },
      "outputs": [],
      "source": [
        "df_jokes = pd.read_csv('/content/drive/MyDrive/Datasets/Sentimental Analysis/Jokes Prediction Data/jester_items.csv')"
      ]
    },
    {
      "cell_type": "markdown",
      "source": [
        "**Dataset having all the jokes**"
      ],
      "metadata": {
        "id": "xl8Qy-QUZdgO"
      }
    },
    {
      "cell_type": "code",
      "source": [
        "df_jokes.head().style.set_properties(\n",
        "    **{\n",
        "      'background-color':'black',\n",
        "      'color':'white',\n",
        "      'border-color':'white',\n",
        "      'border-style':'solid'\n",
        "    }\n",
        ")"
      ],
      "metadata": {
        "colab": {
          "base_uri": "https://localhost:8080/",
          "height": 237
        },
        "id": "Owx7ANOYZCLO",
        "outputId": "d9023f2a-a6cf-4ea6-e075-53070d5460cc"
      },
      "execution_count": null,
      "outputs": [
        {
          "output_type": "execute_result",
          "data": {
            "text/plain": [
              "<pandas.io.formats.style.Styler at 0x7bde037071c0>"
            ],
            "text/html": [
              "<style type=\"text/css\">\n",
              "#T_bf18e_row0_col0, #T_bf18e_row0_col1, #T_bf18e_row1_col0, #T_bf18e_row1_col1, #T_bf18e_row2_col0, #T_bf18e_row2_col1, #T_bf18e_row3_col0, #T_bf18e_row3_col1, #T_bf18e_row4_col0, #T_bf18e_row4_col1 {\n",
              "  background-color: black;\n",
              "  color: white;\n",
              "  border-color: white;\n",
              "  border-style: solid;\n",
              "}\n",
              "</style>\n",
              "<table id=\"T_bf18e\" class=\"dataframe\">\n",
              "  <thead>\n",
              "    <tr>\n",
              "      <th class=\"blank level0\" >&nbsp;</th>\n",
              "      <th id=\"T_bf18e_level0_col0\" class=\"col_heading level0 col0\" >jokeId</th>\n",
              "      <th id=\"T_bf18e_level0_col1\" class=\"col_heading level0 col1\" >jokeText</th>\n",
              "    </tr>\n",
              "  </thead>\n",
              "  <tbody>\n",
              "    <tr>\n",
              "      <th id=\"T_bf18e_level0_row0\" class=\"row_heading level0 row0\" >0</th>\n",
              "      <td id=\"T_bf18e_row0_col0\" class=\"data row0 col0\" >1</td>\n",
              "      <td id=\"T_bf18e_row0_col1\" class=\"data row0 col1\" >A man visits the doctor. The doctor says \"I have bad news for you.You have\n",
              "cancer and Alzheimer's disease\". \n",
              "The man replies \"Well,thank God I don't have cancer!\"\n",
              "</td>\n",
              "    </tr>\n",
              "    <tr>\n",
              "      <th id=\"T_bf18e_level0_row1\" class=\"row_heading level0 row1\" >1</th>\n",
              "      <td id=\"T_bf18e_row1_col0\" class=\"data row1 col0\" >2</td>\n",
              "      <td id=\"T_bf18e_row1_col1\" class=\"data row1 col1\" >This couple had an excellent relationship going until one day he came home\n",
              "from work to find his girlfriend packing. He asked her why she was leaving him\n",
              "and she told him that she had heard awful things about him. \n",
              "\n",
              "\"What could they possibly have said to make you move out?\" \n",
              "\n",
              "\"They told me that you were a pedophile.\" \n",
              "\n",
              "He replied, \"That's an awfully big word for a ten year old.\" \n",
              "</td>\n",
              "    </tr>\n",
              "    <tr>\n",
              "      <th id=\"T_bf18e_level0_row2\" class=\"row_heading level0 row2\" >2</th>\n",
              "      <td id=\"T_bf18e_row2_col0\" class=\"data row2 col0\" >3</td>\n",
              "      <td id=\"T_bf18e_row2_col1\" class=\"data row2 col1\" >Q. What's 200 feet long and has 4 teeth? \n",
              "\n",
              "A. The front row at a Willie Nelson Concert.\n",
              "</td>\n",
              "    </tr>\n",
              "    <tr>\n",
              "      <th id=\"T_bf18e_level0_row3\" class=\"row_heading level0 row3\" >3</th>\n",
              "      <td id=\"T_bf18e_row3_col0\" class=\"data row3 col0\" >4</td>\n",
              "      <td id=\"T_bf18e_row3_col1\" class=\"data row3 col1\" >Q. What's the difference between a man and a toilet? \n",
              "\n",
              "A. A toilet doesn't follow you around after you use it.\n",
              "</td>\n",
              "    </tr>\n",
              "    <tr>\n",
              "      <th id=\"T_bf18e_level0_row4\" class=\"row_heading level0 row4\" >4</th>\n",
              "      <td id=\"T_bf18e_row4_col0\" class=\"data row4 col0\" >5</td>\n",
              "      <td id=\"T_bf18e_row4_col1\" class=\"data row4 col1\" >Q.\tWhat's O. J. Simpson's Internet address? \n",
              "A.\tSlash, slash, backslash, slash, slash, escape.\n",
              "</td>\n",
              "    </tr>\n",
              "  </tbody>\n",
              "</table>\n"
            ]
          },
          "metadata": {},
          "execution_count": 78
        }
      ]
    },
    {
      "cell_type": "markdown",
      "source": [
        "**Shape Inspection**"
      ],
      "metadata": {
        "id": "PXMsgmV5beX7"
      }
    },
    {
      "cell_type": "code",
      "source": [
        "df_jokes.shape"
      ],
      "metadata": {
        "colab": {
          "base_uri": "https://localhost:8080/"
        },
        "id": "IsBCP8jQbgqL",
        "outputId": "48ddd44a-6108-43f3-90a8-1bf2a42eef65"
      },
      "execution_count": null,
      "outputs": [
        {
          "output_type": "execute_result",
          "data": {
            "text/plain": [
              "(150, 2)"
            ]
          },
          "metadata": {},
          "execution_count": 79
        }
      ]
    },
    {
      "cell_type": "markdown",
      "source": [
        "<hr>\n",
        "\n",
        "**Unique values**"
      ],
      "metadata": {
        "id": "62-weI9ndQJx"
      }
    },
    {
      "cell_type": "code",
      "source": [
        "df_jokes['jokeId'].nunique()"
      ],
      "metadata": {
        "colab": {
          "base_uri": "https://localhost:8080/"
        },
        "outputId": "f64f9c70-4d50-4b54-b571-f9a66e3a3573",
        "id": "8QyRMTF1dQJx"
      },
      "execution_count": null,
      "outputs": [
        {
          "output_type": "execute_result",
          "data": {
            "text/plain": [
              "150"
            ]
          },
          "metadata": {},
          "execution_count": 80
        }
      ]
    },
    {
      "cell_type": "markdown",
      "source": [
        "<hr>\n",
        "\n",
        "**Information**"
      ],
      "metadata": {
        "id": "IfWjlLcshFXy"
      }
    },
    {
      "cell_type": "code",
      "source": [
        "df_jokes.info()"
      ],
      "metadata": {
        "colab": {
          "base_uri": "https://localhost:8080/"
        },
        "id": "9QPOTXQGhG8T",
        "outputId": "754222f2-7ce9-4f55-d091-515060eba75b"
      },
      "execution_count": null,
      "outputs": [
        {
          "output_type": "stream",
          "name": "stdout",
          "text": [
            "<class 'pandas.core.frame.DataFrame'>\n",
            "RangeIndex: 150 entries, 0 to 149\n",
            "Data columns (total 2 columns):\n",
            " #   Column    Non-Null Count  Dtype \n",
            "---  ------    --------------  ----- \n",
            " 0   jokeId    150 non-null    int64 \n",
            " 1   jokeText  150 non-null    object\n",
            "dtypes: int64(1), object(1)\n",
            "memory usage: 2.5+ KB\n"
          ]
        }
      ]
    },
    {
      "cell_type": "markdown",
      "source": [
        "<hr>\n",
        "\n",
        "**Dataset having all the rating with the users**"
      ],
      "metadata": {
        "id": "Y54RvPliZoF-"
      }
    },
    {
      "cell_type": "code",
      "source": [
        "df_rating = pd.read_csv('/content/drive/MyDrive/Datasets/Sentimental Analysis/Jokes Prediction Data/jester_ratings.csv')"
      ],
      "metadata": {
        "id": "HiQbu7NRZag9"
      },
      "execution_count": null,
      "outputs": []
    },
    {
      "cell_type": "code",
      "source": [
        "df_rating.head().style.set_properties(\n",
        "    **{\n",
        "      'background-color':'black',\n",
        "      'color':'white',\n",
        "      'border-color':'white',\n",
        "      'border-style':'solid'\n",
        "    }\n",
        ")"
      ],
      "metadata": {
        "colab": {
          "base_uri": "https://localhost:8080/",
          "height": 220
        },
        "id": "-krv0Ik7ZugV",
        "outputId": "98664818-755a-40ad-b326-c76f4173f497"
      },
      "execution_count": null,
      "outputs": [
        {
          "output_type": "execute_result",
          "data": {
            "text/plain": [
              "<pandas.io.formats.style.Styler at 0x7bde03707dc0>"
            ],
            "text/html": [
              "<style type=\"text/css\">\n",
              "#T_7dcfc_row0_col0, #T_7dcfc_row0_col1, #T_7dcfc_row0_col2, #T_7dcfc_row1_col0, #T_7dcfc_row1_col1, #T_7dcfc_row1_col2, #T_7dcfc_row2_col0, #T_7dcfc_row2_col1, #T_7dcfc_row2_col2, #T_7dcfc_row3_col0, #T_7dcfc_row3_col1, #T_7dcfc_row3_col2, #T_7dcfc_row4_col0, #T_7dcfc_row4_col1, #T_7dcfc_row4_col2 {\n",
              "  background-color: black;\n",
              "  color: white;\n",
              "  border-color: white;\n",
              "  border-style: solid;\n",
              "}\n",
              "</style>\n",
              "<table id=\"T_7dcfc\" class=\"dataframe\">\n",
              "  <thead>\n",
              "    <tr>\n",
              "      <th class=\"blank level0\" >&nbsp;</th>\n",
              "      <th id=\"T_7dcfc_level0_col0\" class=\"col_heading level0 col0\" >userId</th>\n",
              "      <th id=\"T_7dcfc_level0_col1\" class=\"col_heading level0 col1\" >jokeId</th>\n",
              "      <th id=\"T_7dcfc_level0_col2\" class=\"col_heading level0 col2\" >rating</th>\n",
              "    </tr>\n",
              "  </thead>\n",
              "  <tbody>\n",
              "    <tr>\n",
              "      <th id=\"T_7dcfc_level0_row0\" class=\"row_heading level0 row0\" >0</th>\n",
              "      <td id=\"T_7dcfc_row0_col0\" class=\"data row0 col0\" >1</td>\n",
              "      <td id=\"T_7dcfc_row0_col1\" class=\"data row0 col1\" >5</td>\n",
              "      <td id=\"T_7dcfc_row0_col2\" class=\"data row0 col2\" >0.219000</td>\n",
              "    </tr>\n",
              "    <tr>\n",
              "      <th id=\"T_7dcfc_level0_row1\" class=\"row_heading level0 row1\" >1</th>\n",
              "      <td id=\"T_7dcfc_row1_col0\" class=\"data row1 col0\" >1</td>\n",
              "      <td id=\"T_7dcfc_row1_col1\" class=\"data row1 col1\" >7</td>\n",
              "      <td id=\"T_7dcfc_row1_col2\" class=\"data row1 col2\" >-9.281000</td>\n",
              "    </tr>\n",
              "    <tr>\n",
              "      <th id=\"T_7dcfc_level0_row2\" class=\"row_heading level0 row2\" >2</th>\n",
              "      <td id=\"T_7dcfc_row2_col0\" class=\"data row2 col0\" >1</td>\n",
              "      <td id=\"T_7dcfc_row2_col1\" class=\"data row2 col1\" >8</td>\n",
              "      <td id=\"T_7dcfc_row2_col2\" class=\"data row2 col2\" >-9.281000</td>\n",
              "    </tr>\n",
              "    <tr>\n",
              "      <th id=\"T_7dcfc_level0_row3\" class=\"row_heading level0 row3\" >3</th>\n",
              "      <td id=\"T_7dcfc_row3_col0\" class=\"data row3 col0\" >1</td>\n",
              "      <td id=\"T_7dcfc_row3_col1\" class=\"data row3 col1\" >13</td>\n",
              "      <td id=\"T_7dcfc_row3_col2\" class=\"data row3 col2\" >-6.781000</td>\n",
              "    </tr>\n",
              "    <tr>\n",
              "      <th id=\"T_7dcfc_level0_row4\" class=\"row_heading level0 row4\" >4</th>\n",
              "      <td id=\"T_7dcfc_row4_col0\" class=\"data row4 col0\" >1</td>\n",
              "      <td id=\"T_7dcfc_row4_col1\" class=\"data row4 col1\" >15</td>\n",
              "      <td id=\"T_7dcfc_row4_col2\" class=\"data row4 col2\" >0.875000</td>\n",
              "    </tr>\n",
              "  </tbody>\n",
              "</table>\n"
            ]
          },
          "metadata": {},
          "execution_count": 83
        }
      ]
    },
    {
      "cell_type": "markdown",
      "source": [
        "**Shape Inspection**"
      ],
      "metadata": {
        "id": "41mKRZvBgr8S"
      }
    },
    {
      "cell_type": "code",
      "source": [
        "df_rating.shape"
      ],
      "metadata": {
        "colab": {
          "base_uri": "https://localhost:8080/"
        },
        "outputId": "c608bdc1-e4ed-4b31-bc36-333b3c9e9a94",
        "id": "ZGGpcjhYgr8S"
      },
      "execution_count": null,
      "outputs": [
        {
          "output_type": "execute_result",
          "data": {
            "text/plain": [
              "(1761439, 3)"
            ]
          },
          "metadata": {},
          "execution_count": 84
        }
      ]
    },
    {
      "cell_type": "markdown",
      "source": [
        "<hr>\n",
        "\n",
        "**Unique values**"
      ],
      "metadata": {
        "id": "_04OOejHcUYP"
      }
    },
    {
      "cell_type": "code",
      "source": [
        "df_rating['jokeId'].nunique()"
      ],
      "metadata": {
        "colab": {
          "base_uri": "https://localhost:8080/"
        },
        "id": "2vAcqOxhcW5u",
        "outputId": "d740e914-384c-4646-fc9d-bcf9e0b98cea"
      },
      "execution_count": null,
      "outputs": [
        {
          "output_type": "execute_result",
          "data": {
            "text/plain": [
              "140"
            ]
          },
          "metadata": {},
          "execution_count": 85
        }
      ]
    },
    {
      "cell_type": "markdown",
      "source": [
        "<hr>\n",
        "\n",
        "**Information**"
      ],
      "metadata": {
        "id": "31KXygR2hMMv"
      }
    },
    {
      "cell_type": "code",
      "source": [
        "df_rating.info()"
      ],
      "metadata": {
        "outputId": "462e126c-3e7a-4e96-afc3-157b8f700e5f",
        "colab": {
          "base_uri": "https://localhost:8080/"
        },
        "id": "IdM6ZMcUhMMw"
      },
      "execution_count": null,
      "outputs": [
        {
          "output_type": "stream",
          "name": "stdout",
          "text": [
            "<class 'pandas.core.frame.DataFrame'>\n",
            "RangeIndex: 1761439 entries, 0 to 1761438\n",
            "Data columns (total 3 columns):\n",
            " #   Column  Dtype  \n",
            "---  ------  -----  \n",
            " 0   userId  int64  \n",
            " 1   jokeId  int64  \n",
            " 2   rating  float64\n",
            "dtypes: float64(1), int64(2)\n",
            "memory usage: 40.3 MB\n"
          ]
        }
      ]
    },
    {
      "cell_type": "markdown",
      "source": [
        "<hr>\n",
        "\n",
        "# **Step 3 - Formulation of Approach**"
      ],
      "metadata": {
        "id": "73GHK_NuZ_VC"
      }
    },
    {
      "cell_type": "markdown",
      "source": [
        "**Here the approach is to combine both the data. Using the Ratings data we would have to grab the average rating for all the jokes present.**"
      ],
      "metadata": {
        "id": "odYjCUvKaRHz"
      }
    },
    {
      "cell_type": "markdown",
      "source": [
        "**Step A - Grouping the data**"
      ],
      "metadata": {
        "id": "WVH71rasateu"
      }
    },
    {
      "cell_type": "code",
      "source": [
        "a = df_rating.groupby('jokeId')['rating'].sum().reset_index()"
      ],
      "metadata": {
        "id": "IQKmD2gDZwqF"
      },
      "execution_count": null,
      "outputs": []
    },
    {
      "cell_type": "code",
      "source": [
        "a"
      ],
      "metadata": {
        "colab": {
          "base_uri": "https://localhost:8080/",
          "height": 423
        },
        "id": "-B9yMT2jbqq-",
        "outputId": "2d522588-3bd9-4c5c-e483-382fc6bcf645"
      },
      "execution_count": null,
      "outputs": [
        {
          "output_type": "execute_result",
          "data": {
            "text/plain": [
              "     jokeId      rating\n",
              "0         5   -1160.935\n",
              "1         7 -106965.294\n",
              "2         8  -38788.437\n",
              "3        13  -33249.090\n",
              "4        15  -75646.752\n",
              "..      ...         ...\n",
              "135     146     875.890\n",
              "136     147   17348.869\n",
              "137     148   45889.665\n",
              "138     149   26323.365\n",
              "139     150   51074.279\n",
              "\n",
              "[140 rows x 2 columns]"
            ],
            "text/html": [
              "\n",
              "  <div id=\"df-68fe071f-3f59-4b4d-a0f8-af719f7d0972\" class=\"colab-df-container\">\n",
              "    <div>\n",
              "<style scoped>\n",
              "    .dataframe tbody tr th:only-of-type {\n",
              "        vertical-align: middle;\n",
              "    }\n",
              "\n",
              "    .dataframe tbody tr th {\n",
              "        vertical-align: top;\n",
              "    }\n",
              "\n",
              "    .dataframe thead th {\n",
              "        text-align: right;\n",
              "    }\n",
              "</style>\n",
              "<table border=\"1\" class=\"dataframe\">\n",
              "  <thead>\n",
              "    <tr style=\"text-align: right;\">\n",
              "      <th></th>\n",
              "      <th>jokeId</th>\n",
              "      <th>rating</th>\n",
              "    </tr>\n",
              "  </thead>\n",
              "  <tbody>\n",
              "    <tr>\n",
              "      <th>0</th>\n",
              "      <td>5</td>\n",
              "      <td>-1160.935</td>\n",
              "    </tr>\n",
              "    <tr>\n",
              "      <th>1</th>\n",
              "      <td>7</td>\n",
              "      <td>-106965.294</td>\n",
              "    </tr>\n",
              "    <tr>\n",
              "      <th>2</th>\n",
              "      <td>8</td>\n",
              "      <td>-38788.437</td>\n",
              "    </tr>\n",
              "    <tr>\n",
              "      <th>3</th>\n",
              "      <td>13</td>\n",
              "      <td>-33249.090</td>\n",
              "    </tr>\n",
              "    <tr>\n",
              "      <th>4</th>\n",
              "      <td>15</td>\n",
              "      <td>-75646.752</td>\n",
              "    </tr>\n",
              "    <tr>\n",
              "      <th>...</th>\n",
              "      <td>...</td>\n",
              "      <td>...</td>\n",
              "    </tr>\n",
              "    <tr>\n",
              "      <th>135</th>\n",
              "      <td>146</td>\n",
              "      <td>875.890</td>\n",
              "    </tr>\n",
              "    <tr>\n",
              "      <th>136</th>\n",
              "      <td>147</td>\n",
              "      <td>17348.869</td>\n",
              "    </tr>\n",
              "    <tr>\n",
              "      <th>137</th>\n",
              "      <td>148</td>\n",
              "      <td>45889.665</td>\n",
              "    </tr>\n",
              "    <tr>\n",
              "      <th>138</th>\n",
              "      <td>149</td>\n",
              "      <td>26323.365</td>\n",
              "    </tr>\n",
              "    <tr>\n",
              "      <th>139</th>\n",
              "      <td>150</td>\n",
              "      <td>51074.279</td>\n",
              "    </tr>\n",
              "  </tbody>\n",
              "</table>\n",
              "<p>140 rows × 2 columns</p>\n",
              "</div>\n",
              "    <div class=\"colab-df-buttons\">\n",
              "\n",
              "  <div class=\"colab-df-container\">\n",
              "    <button class=\"colab-df-convert\" onclick=\"convertToInteractive('df-68fe071f-3f59-4b4d-a0f8-af719f7d0972')\"\n",
              "            title=\"Convert this dataframe to an interactive table.\"\n",
              "            style=\"display:none;\">\n",
              "\n",
              "  <svg xmlns=\"http://www.w3.org/2000/svg\" height=\"24px\" viewBox=\"0 -960 960 960\">\n",
              "    <path d=\"M120-120v-720h720v720H120Zm60-500h600v-160H180v160Zm220 220h160v-160H400v160Zm0 220h160v-160H400v160ZM180-400h160v-160H180v160Zm440 0h160v-160H620v160ZM180-180h160v-160H180v160Zm440 0h160v-160H620v160Z\"/>\n",
              "  </svg>\n",
              "    </button>\n",
              "\n",
              "  <style>\n",
              "    .colab-df-container {\n",
              "      display:flex;\n",
              "      gap: 12px;\n",
              "    }\n",
              "\n",
              "    .colab-df-convert {\n",
              "      background-color: #E8F0FE;\n",
              "      border: none;\n",
              "      border-radius: 50%;\n",
              "      cursor: pointer;\n",
              "      display: none;\n",
              "      fill: #1967D2;\n",
              "      height: 32px;\n",
              "      padding: 0 0 0 0;\n",
              "      width: 32px;\n",
              "    }\n",
              "\n",
              "    .colab-df-convert:hover {\n",
              "      background-color: #E2EBFA;\n",
              "      box-shadow: 0px 1px 2px rgba(60, 64, 67, 0.3), 0px 1px 3px 1px rgba(60, 64, 67, 0.15);\n",
              "      fill: #174EA6;\n",
              "    }\n",
              "\n",
              "    .colab-df-buttons div {\n",
              "      margin-bottom: 4px;\n",
              "    }\n",
              "\n",
              "    [theme=dark] .colab-df-convert {\n",
              "      background-color: #3B4455;\n",
              "      fill: #D2E3FC;\n",
              "    }\n",
              "\n",
              "    [theme=dark] .colab-df-convert:hover {\n",
              "      background-color: #434B5C;\n",
              "      box-shadow: 0px 1px 3px 1px rgba(0, 0, 0, 0.15);\n",
              "      filter: drop-shadow(0px 1px 2px rgba(0, 0, 0, 0.3));\n",
              "      fill: #FFFFFF;\n",
              "    }\n",
              "  </style>\n",
              "\n",
              "    <script>\n",
              "      const buttonEl =\n",
              "        document.querySelector('#df-68fe071f-3f59-4b4d-a0f8-af719f7d0972 button.colab-df-convert');\n",
              "      buttonEl.style.display =\n",
              "        google.colab.kernel.accessAllowed ? 'block' : 'none';\n",
              "\n",
              "      async function convertToInteractive(key) {\n",
              "        const element = document.querySelector('#df-68fe071f-3f59-4b4d-a0f8-af719f7d0972');\n",
              "        const dataTable =\n",
              "          await google.colab.kernel.invokeFunction('convertToInteractive',\n",
              "                                                    [key], {});\n",
              "        if (!dataTable) return;\n",
              "\n",
              "        const docLinkHtml = 'Like what you see? Visit the ' +\n",
              "          '<a target=\"_blank\" href=https://colab.research.google.com/notebooks/data_table.ipynb>data table notebook</a>'\n",
              "          + ' to learn more about interactive tables.';\n",
              "        element.innerHTML = '';\n",
              "        dataTable['output_type'] = 'display_data';\n",
              "        await google.colab.output.renderOutput(dataTable, element);\n",
              "        const docLink = document.createElement('div');\n",
              "        docLink.innerHTML = docLinkHtml;\n",
              "        element.appendChild(docLink);\n",
              "      }\n",
              "    </script>\n",
              "  </div>\n",
              "\n",
              "\n",
              "<div id=\"df-8abec3d0-1aed-4b69-876b-ee134c20a271\">\n",
              "  <button class=\"colab-df-quickchart\" onclick=\"quickchart('df-8abec3d0-1aed-4b69-876b-ee134c20a271')\"\n",
              "            title=\"Suggest charts\"\n",
              "            style=\"display:none;\">\n",
              "\n",
              "<svg xmlns=\"http://www.w3.org/2000/svg\" height=\"24px\"viewBox=\"0 0 24 24\"\n",
              "     width=\"24px\">\n",
              "    <g>\n",
              "        <path d=\"M19 3H5c-1.1 0-2 .9-2 2v14c0 1.1.9 2 2 2h14c1.1 0 2-.9 2-2V5c0-1.1-.9-2-2-2zM9 17H7v-7h2v7zm4 0h-2V7h2v10zm4 0h-2v-4h2v4z\"/>\n",
              "    </g>\n",
              "</svg>\n",
              "  </button>\n",
              "\n",
              "<style>\n",
              "  .colab-df-quickchart {\n",
              "      --bg-color: #E8F0FE;\n",
              "      --fill-color: #1967D2;\n",
              "      --hover-bg-color: #E2EBFA;\n",
              "      --hover-fill-color: #174EA6;\n",
              "      --disabled-fill-color: #AAA;\n",
              "      --disabled-bg-color: #DDD;\n",
              "  }\n",
              "\n",
              "  [theme=dark] .colab-df-quickchart {\n",
              "      --bg-color: #3B4455;\n",
              "      --fill-color: #D2E3FC;\n",
              "      --hover-bg-color: #434B5C;\n",
              "      --hover-fill-color: #FFFFFF;\n",
              "      --disabled-bg-color: #3B4455;\n",
              "      --disabled-fill-color: #666;\n",
              "  }\n",
              "\n",
              "  .colab-df-quickchart {\n",
              "    background-color: var(--bg-color);\n",
              "    border: none;\n",
              "    border-radius: 50%;\n",
              "    cursor: pointer;\n",
              "    display: none;\n",
              "    fill: var(--fill-color);\n",
              "    height: 32px;\n",
              "    padding: 0;\n",
              "    width: 32px;\n",
              "  }\n",
              "\n",
              "  .colab-df-quickchart:hover {\n",
              "    background-color: var(--hover-bg-color);\n",
              "    box-shadow: 0 1px 2px rgba(60, 64, 67, 0.3), 0 1px 3px 1px rgba(60, 64, 67, 0.15);\n",
              "    fill: var(--button-hover-fill-color);\n",
              "  }\n",
              "\n",
              "  .colab-df-quickchart-complete:disabled,\n",
              "  .colab-df-quickchart-complete:disabled:hover {\n",
              "    background-color: var(--disabled-bg-color);\n",
              "    fill: var(--disabled-fill-color);\n",
              "    box-shadow: none;\n",
              "  }\n",
              "\n",
              "  .colab-df-spinner {\n",
              "    border: 2px solid var(--fill-color);\n",
              "    border-color: transparent;\n",
              "    border-bottom-color: var(--fill-color);\n",
              "    animation:\n",
              "      spin 1s steps(1) infinite;\n",
              "  }\n",
              "\n",
              "  @keyframes spin {\n",
              "    0% {\n",
              "      border-color: transparent;\n",
              "      border-bottom-color: var(--fill-color);\n",
              "      border-left-color: var(--fill-color);\n",
              "    }\n",
              "    20% {\n",
              "      border-color: transparent;\n",
              "      border-left-color: var(--fill-color);\n",
              "      border-top-color: var(--fill-color);\n",
              "    }\n",
              "    30% {\n",
              "      border-color: transparent;\n",
              "      border-left-color: var(--fill-color);\n",
              "      border-top-color: var(--fill-color);\n",
              "      border-right-color: var(--fill-color);\n",
              "    }\n",
              "    40% {\n",
              "      border-color: transparent;\n",
              "      border-right-color: var(--fill-color);\n",
              "      border-top-color: var(--fill-color);\n",
              "    }\n",
              "    60% {\n",
              "      border-color: transparent;\n",
              "      border-right-color: var(--fill-color);\n",
              "    }\n",
              "    80% {\n",
              "      border-color: transparent;\n",
              "      border-right-color: var(--fill-color);\n",
              "      border-bottom-color: var(--fill-color);\n",
              "    }\n",
              "    90% {\n",
              "      border-color: transparent;\n",
              "      border-bottom-color: var(--fill-color);\n",
              "    }\n",
              "  }\n",
              "</style>\n",
              "\n",
              "  <script>\n",
              "    async function quickchart(key) {\n",
              "      const quickchartButtonEl =\n",
              "        document.querySelector('#' + key + ' button');\n",
              "      quickchartButtonEl.disabled = true;  // To prevent multiple clicks.\n",
              "      quickchartButtonEl.classList.add('colab-df-spinner');\n",
              "      try {\n",
              "        const charts = await google.colab.kernel.invokeFunction(\n",
              "            'suggestCharts', [key], {});\n",
              "      } catch (error) {\n",
              "        console.error('Error during call to suggestCharts:', error);\n",
              "      }\n",
              "      quickchartButtonEl.classList.remove('colab-df-spinner');\n",
              "      quickchartButtonEl.classList.add('colab-df-quickchart-complete');\n",
              "    }\n",
              "    (() => {\n",
              "      let quickchartButtonEl =\n",
              "        document.querySelector('#df-8abec3d0-1aed-4b69-876b-ee134c20a271 button');\n",
              "      quickchartButtonEl.style.display =\n",
              "        google.colab.kernel.accessAllowed ? 'block' : 'none';\n",
              "    })();\n",
              "  </script>\n",
              "</div>\n",
              "\n",
              "  <div id=\"id_5960bde8-f4d0-4882-86b2-8a270d5e538c\">\n",
              "    <style>\n",
              "      .colab-df-generate {\n",
              "        background-color: #E8F0FE;\n",
              "        border: none;\n",
              "        border-radius: 50%;\n",
              "        cursor: pointer;\n",
              "        display: none;\n",
              "        fill: #1967D2;\n",
              "        height: 32px;\n",
              "        padding: 0 0 0 0;\n",
              "        width: 32px;\n",
              "      }\n",
              "\n",
              "      .colab-df-generate:hover {\n",
              "        background-color: #E2EBFA;\n",
              "        box-shadow: 0px 1px 2px rgba(60, 64, 67, 0.3), 0px 1px 3px 1px rgba(60, 64, 67, 0.15);\n",
              "        fill: #174EA6;\n",
              "      }\n",
              "\n",
              "      [theme=dark] .colab-df-generate {\n",
              "        background-color: #3B4455;\n",
              "        fill: #D2E3FC;\n",
              "      }\n",
              "\n",
              "      [theme=dark] .colab-df-generate:hover {\n",
              "        background-color: #434B5C;\n",
              "        box-shadow: 0px 1px 3px 1px rgba(0, 0, 0, 0.15);\n",
              "        filter: drop-shadow(0px 1px 2px rgba(0, 0, 0, 0.3));\n",
              "        fill: #FFFFFF;\n",
              "      }\n",
              "    </style>\n",
              "    <button class=\"colab-df-generate\" onclick=\"generateWithVariable('a')\"\n",
              "            title=\"Generate code using this dataframe.\"\n",
              "            style=\"display:none;\">\n",
              "\n",
              "  <svg xmlns=\"http://www.w3.org/2000/svg\" height=\"24px\"viewBox=\"0 0 24 24\"\n",
              "       width=\"24px\">\n",
              "    <path d=\"M7,19H8.4L18.45,9,17,7.55,7,17.6ZM5,21V16.75L18.45,3.32a2,2,0,0,1,2.83,0l1.4,1.43a1.91,1.91,0,0,1,.58,1.4,1.91,1.91,0,0,1-.58,1.4L9.25,21ZM18.45,9,17,7.55Zm-12,3A5.31,5.31,0,0,0,4.9,8.1,5.31,5.31,0,0,0,1,6.5,5.31,5.31,0,0,0,4.9,4.9,5.31,5.31,0,0,0,6.5,1,5.31,5.31,0,0,0,8.1,4.9,5.31,5.31,0,0,0,12,6.5,5.46,5.46,0,0,0,6.5,12Z\"/>\n",
              "  </svg>\n",
              "    </button>\n",
              "    <script>\n",
              "      (() => {\n",
              "      const buttonEl =\n",
              "        document.querySelector('#id_5960bde8-f4d0-4882-86b2-8a270d5e538c button.colab-df-generate');\n",
              "      buttonEl.style.display =\n",
              "        google.colab.kernel.accessAllowed ? 'block' : 'none';\n",
              "\n",
              "      buttonEl.onclick = () => {\n",
              "        google.colab.notebook.generateWithVariable('a');\n",
              "      }\n",
              "      })();\n",
              "    </script>\n",
              "  </div>\n",
              "\n",
              "    </div>\n",
              "  </div>\n"
            ],
            "application/vnd.google.colaboratory.intrinsic+json": {
              "type": "dataframe",
              "variable_name": "a",
              "summary": "{\n  \"name\": \"a\",\n  \"rows\": 140,\n  \"fields\": [\n    {\n      \"column\": \"jokeId\",\n      \"properties\": {\n        \"dtype\": \"number\",\n        \"std\": 40,\n        \"min\": 5,\n        \"max\": 150,\n        \"num_unique_values\": 140,\n        \"samples\": [\n          119,\n          78,\n          42\n        ],\n        \"semantic_type\": \"\",\n        \"description\": \"\"\n      }\n    },\n    {\n      \"column\": \"rating\",\n      \"properties\": {\n        \"dtype\": \"number\",\n        \"std\": 29316.60309805528,\n        \"min\": -106965.294,\n        \"max\": 93754.722,\n        \"num_unique_values\": 140,\n        \"samples\": [\n          50534.769,\n          20677.489,\n          14428.816\n        ],\n        \"semantic_type\": \"\",\n        \"description\": \"\"\n      }\n    }\n  ]\n}"
            }
          },
          "metadata": {},
          "execution_count": 88
        }
      ]
    },
    {
      "cell_type": "markdown",
      "source": [
        "**Here is the first issue since the data we are having seems to have some issue with the jokes Id, so we will dissolve the joke ID that are not there in the previous dataset as compared to this one**"
      ],
      "metadata": {
        "id": "SnMkckg5dVB4"
      }
    },
    {
      "cell_type": "code",
      "source": [
        "# Filter df1 based on JokeIDs present in df2\n",
        "df_jokes = df_jokes[df_jokes['jokeId'].isin(df_rating['jokeId'])].reset_index()\n",
        "\n",
        "df_jokes"
      ],
      "metadata": {
        "colab": {
          "base_uri": "https://localhost:8080/",
          "height": 423
        },
        "id": "BMqeNcrMdmJj",
        "outputId": "0646466f-d37e-40c3-8bdf-6485729e470e"
      },
      "execution_count": null,
      "outputs": [
        {
          "output_type": "execute_result",
          "data": {
            "text/plain": [
              "     index  jokeId                                           jokeText\n",
              "0        4       5  Q.\\tWhat's O. J. Simpson's Internet address? \\...\n",
              "1        6       7  How many feminists does it take to screw in a ...\n",
              "2        7       8  Q. Did you hear about the dyslexic devil worsh...\n",
              "3       12      13  They asked the Japanese visitor if they have e...\n",
              "4       14      15  Q:  What did the blind person say when given s...\n",
              "..     ...     ...                                                ...\n",
              "135    145     146  America: 8:00 - Welcome to work! 12:00 - Lunch...\n",
              "136    146     147  It was the day of the big sale. Rumors of the ...\n",
              "137    147     148  Recently a teacher, a garbage collector, and a...\n",
              "138    148     149  A little girl asked her father, \"Daddy? Do all...\n",
              "139    149     150  In an interview with David Letterman, Carter p...\n",
              "\n",
              "[140 rows x 3 columns]"
            ],
            "text/html": [
              "\n",
              "  <div id=\"df-0f305eba-3ec1-4efc-ad13-0e602bc36d36\" class=\"colab-df-container\">\n",
              "    <div>\n",
              "<style scoped>\n",
              "    .dataframe tbody tr th:only-of-type {\n",
              "        vertical-align: middle;\n",
              "    }\n",
              "\n",
              "    .dataframe tbody tr th {\n",
              "        vertical-align: top;\n",
              "    }\n",
              "\n",
              "    .dataframe thead th {\n",
              "        text-align: right;\n",
              "    }\n",
              "</style>\n",
              "<table border=\"1\" class=\"dataframe\">\n",
              "  <thead>\n",
              "    <tr style=\"text-align: right;\">\n",
              "      <th></th>\n",
              "      <th>index</th>\n",
              "      <th>jokeId</th>\n",
              "      <th>jokeText</th>\n",
              "    </tr>\n",
              "  </thead>\n",
              "  <tbody>\n",
              "    <tr>\n",
              "      <th>0</th>\n",
              "      <td>4</td>\n",
              "      <td>5</td>\n",
              "      <td>Q.\\tWhat's O. J. Simpson's Internet address? \\...</td>\n",
              "    </tr>\n",
              "    <tr>\n",
              "      <th>1</th>\n",
              "      <td>6</td>\n",
              "      <td>7</td>\n",
              "      <td>How many feminists does it take to screw in a ...</td>\n",
              "    </tr>\n",
              "    <tr>\n",
              "      <th>2</th>\n",
              "      <td>7</td>\n",
              "      <td>8</td>\n",
              "      <td>Q. Did you hear about the dyslexic devil worsh...</td>\n",
              "    </tr>\n",
              "    <tr>\n",
              "      <th>3</th>\n",
              "      <td>12</td>\n",
              "      <td>13</td>\n",
              "      <td>They asked the Japanese visitor if they have e...</td>\n",
              "    </tr>\n",
              "    <tr>\n",
              "      <th>4</th>\n",
              "      <td>14</td>\n",
              "      <td>15</td>\n",
              "      <td>Q:  What did the blind person say when given s...</td>\n",
              "    </tr>\n",
              "    <tr>\n",
              "      <th>...</th>\n",
              "      <td>...</td>\n",
              "      <td>...</td>\n",
              "      <td>...</td>\n",
              "    </tr>\n",
              "    <tr>\n",
              "      <th>135</th>\n",
              "      <td>145</td>\n",
              "      <td>146</td>\n",
              "      <td>America: 8:00 - Welcome to work! 12:00 - Lunch...</td>\n",
              "    </tr>\n",
              "    <tr>\n",
              "      <th>136</th>\n",
              "      <td>146</td>\n",
              "      <td>147</td>\n",
              "      <td>It was the day of the big sale. Rumors of the ...</td>\n",
              "    </tr>\n",
              "    <tr>\n",
              "      <th>137</th>\n",
              "      <td>147</td>\n",
              "      <td>148</td>\n",
              "      <td>Recently a teacher, a garbage collector, and a...</td>\n",
              "    </tr>\n",
              "    <tr>\n",
              "      <th>138</th>\n",
              "      <td>148</td>\n",
              "      <td>149</td>\n",
              "      <td>A little girl asked her father, \"Daddy? Do all...</td>\n",
              "    </tr>\n",
              "    <tr>\n",
              "      <th>139</th>\n",
              "      <td>149</td>\n",
              "      <td>150</td>\n",
              "      <td>In an interview with David Letterman, Carter p...</td>\n",
              "    </tr>\n",
              "  </tbody>\n",
              "</table>\n",
              "<p>140 rows × 3 columns</p>\n",
              "</div>\n",
              "    <div class=\"colab-df-buttons\">\n",
              "\n",
              "  <div class=\"colab-df-container\">\n",
              "    <button class=\"colab-df-convert\" onclick=\"convertToInteractive('df-0f305eba-3ec1-4efc-ad13-0e602bc36d36')\"\n",
              "            title=\"Convert this dataframe to an interactive table.\"\n",
              "            style=\"display:none;\">\n",
              "\n",
              "  <svg xmlns=\"http://www.w3.org/2000/svg\" height=\"24px\" viewBox=\"0 -960 960 960\">\n",
              "    <path d=\"M120-120v-720h720v720H120Zm60-500h600v-160H180v160Zm220 220h160v-160H400v160Zm0 220h160v-160H400v160ZM180-400h160v-160H180v160Zm440 0h160v-160H620v160ZM180-180h160v-160H180v160Zm440 0h160v-160H620v160Z\"/>\n",
              "  </svg>\n",
              "    </button>\n",
              "\n",
              "  <style>\n",
              "    .colab-df-container {\n",
              "      display:flex;\n",
              "      gap: 12px;\n",
              "    }\n",
              "\n",
              "    .colab-df-convert {\n",
              "      background-color: #E8F0FE;\n",
              "      border: none;\n",
              "      border-radius: 50%;\n",
              "      cursor: pointer;\n",
              "      display: none;\n",
              "      fill: #1967D2;\n",
              "      height: 32px;\n",
              "      padding: 0 0 0 0;\n",
              "      width: 32px;\n",
              "    }\n",
              "\n",
              "    .colab-df-convert:hover {\n",
              "      background-color: #E2EBFA;\n",
              "      box-shadow: 0px 1px 2px rgba(60, 64, 67, 0.3), 0px 1px 3px 1px rgba(60, 64, 67, 0.15);\n",
              "      fill: #174EA6;\n",
              "    }\n",
              "\n",
              "    .colab-df-buttons div {\n",
              "      margin-bottom: 4px;\n",
              "    }\n",
              "\n",
              "    [theme=dark] .colab-df-convert {\n",
              "      background-color: #3B4455;\n",
              "      fill: #D2E3FC;\n",
              "    }\n",
              "\n",
              "    [theme=dark] .colab-df-convert:hover {\n",
              "      background-color: #434B5C;\n",
              "      box-shadow: 0px 1px 3px 1px rgba(0, 0, 0, 0.15);\n",
              "      filter: drop-shadow(0px 1px 2px rgba(0, 0, 0, 0.3));\n",
              "      fill: #FFFFFF;\n",
              "    }\n",
              "  </style>\n",
              "\n",
              "    <script>\n",
              "      const buttonEl =\n",
              "        document.querySelector('#df-0f305eba-3ec1-4efc-ad13-0e602bc36d36 button.colab-df-convert');\n",
              "      buttonEl.style.display =\n",
              "        google.colab.kernel.accessAllowed ? 'block' : 'none';\n",
              "\n",
              "      async function convertToInteractive(key) {\n",
              "        const element = document.querySelector('#df-0f305eba-3ec1-4efc-ad13-0e602bc36d36');\n",
              "        const dataTable =\n",
              "          await google.colab.kernel.invokeFunction('convertToInteractive',\n",
              "                                                    [key], {});\n",
              "        if (!dataTable) return;\n",
              "\n",
              "        const docLinkHtml = 'Like what you see? Visit the ' +\n",
              "          '<a target=\"_blank\" href=https://colab.research.google.com/notebooks/data_table.ipynb>data table notebook</a>'\n",
              "          + ' to learn more about interactive tables.';\n",
              "        element.innerHTML = '';\n",
              "        dataTable['output_type'] = 'display_data';\n",
              "        await google.colab.output.renderOutput(dataTable, element);\n",
              "        const docLink = document.createElement('div');\n",
              "        docLink.innerHTML = docLinkHtml;\n",
              "        element.appendChild(docLink);\n",
              "      }\n",
              "    </script>\n",
              "  </div>\n",
              "\n",
              "\n",
              "<div id=\"df-0014d7c9-93ea-409e-abd0-bec024bf7d91\">\n",
              "  <button class=\"colab-df-quickchart\" onclick=\"quickchart('df-0014d7c9-93ea-409e-abd0-bec024bf7d91')\"\n",
              "            title=\"Suggest charts\"\n",
              "            style=\"display:none;\">\n",
              "\n",
              "<svg xmlns=\"http://www.w3.org/2000/svg\" height=\"24px\"viewBox=\"0 0 24 24\"\n",
              "     width=\"24px\">\n",
              "    <g>\n",
              "        <path d=\"M19 3H5c-1.1 0-2 .9-2 2v14c0 1.1.9 2 2 2h14c1.1 0 2-.9 2-2V5c0-1.1-.9-2-2-2zM9 17H7v-7h2v7zm4 0h-2V7h2v10zm4 0h-2v-4h2v4z\"/>\n",
              "    </g>\n",
              "</svg>\n",
              "  </button>\n",
              "\n",
              "<style>\n",
              "  .colab-df-quickchart {\n",
              "      --bg-color: #E8F0FE;\n",
              "      --fill-color: #1967D2;\n",
              "      --hover-bg-color: #E2EBFA;\n",
              "      --hover-fill-color: #174EA6;\n",
              "      --disabled-fill-color: #AAA;\n",
              "      --disabled-bg-color: #DDD;\n",
              "  }\n",
              "\n",
              "  [theme=dark] .colab-df-quickchart {\n",
              "      --bg-color: #3B4455;\n",
              "      --fill-color: #D2E3FC;\n",
              "      --hover-bg-color: #434B5C;\n",
              "      --hover-fill-color: #FFFFFF;\n",
              "      --disabled-bg-color: #3B4455;\n",
              "      --disabled-fill-color: #666;\n",
              "  }\n",
              "\n",
              "  .colab-df-quickchart {\n",
              "    background-color: var(--bg-color);\n",
              "    border: none;\n",
              "    border-radius: 50%;\n",
              "    cursor: pointer;\n",
              "    display: none;\n",
              "    fill: var(--fill-color);\n",
              "    height: 32px;\n",
              "    padding: 0;\n",
              "    width: 32px;\n",
              "  }\n",
              "\n",
              "  .colab-df-quickchart:hover {\n",
              "    background-color: var(--hover-bg-color);\n",
              "    box-shadow: 0 1px 2px rgba(60, 64, 67, 0.3), 0 1px 3px 1px rgba(60, 64, 67, 0.15);\n",
              "    fill: var(--button-hover-fill-color);\n",
              "  }\n",
              "\n",
              "  .colab-df-quickchart-complete:disabled,\n",
              "  .colab-df-quickchart-complete:disabled:hover {\n",
              "    background-color: var(--disabled-bg-color);\n",
              "    fill: var(--disabled-fill-color);\n",
              "    box-shadow: none;\n",
              "  }\n",
              "\n",
              "  .colab-df-spinner {\n",
              "    border: 2px solid var(--fill-color);\n",
              "    border-color: transparent;\n",
              "    border-bottom-color: var(--fill-color);\n",
              "    animation:\n",
              "      spin 1s steps(1) infinite;\n",
              "  }\n",
              "\n",
              "  @keyframes spin {\n",
              "    0% {\n",
              "      border-color: transparent;\n",
              "      border-bottom-color: var(--fill-color);\n",
              "      border-left-color: var(--fill-color);\n",
              "    }\n",
              "    20% {\n",
              "      border-color: transparent;\n",
              "      border-left-color: var(--fill-color);\n",
              "      border-top-color: var(--fill-color);\n",
              "    }\n",
              "    30% {\n",
              "      border-color: transparent;\n",
              "      border-left-color: var(--fill-color);\n",
              "      border-top-color: var(--fill-color);\n",
              "      border-right-color: var(--fill-color);\n",
              "    }\n",
              "    40% {\n",
              "      border-color: transparent;\n",
              "      border-right-color: var(--fill-color);\n",
              "      border-top-color: var(--fill-color);\n",
              "    }\n",
              "    60% {\n",
              "      border-color: transparent;\n",
              "      border-right-color: var(--fill-color);\n",
              "    }\n",
              "    80% {\n",
              "      border-color: transparent;\n",
              "      border-right-color: var(--fill-color);\n",
              "      border-bottom-color: var(--fill-color);\n",
              "    }\n",
              "    90% {\n",
              "      border-color: transparent;\n",
              "      border-bottom-color: var(--fill-color);\n",
              "    }\n",
              "  }\n",
              "</style>\n",
              "\n",
              "  <script>\n",
              "    async function quickchart(key) {\n",
              "      const quickchartButtonEl =\n",
              "        document.querySelector('#' + key + ' button');\n",
              "      quickchartButtonEl.disabled = true;  // To prevent multiple clicks.\n",
              "      quickchartButtonEl.classList.add('colab-df-spinner');\n",
              "      try {\n",
              "        const charts = await google.colab.kernel.invokeFunction(\n",
              "            'suggestCharts', [key], {});\n",
              "      } catch (error) {\n",
              "        console.error('Error during call to suggestCharts:', error);\n",
              "      }\n",
              "      quickchartButtonEl.classList.remove('colab-df-spinner');\n",
              "      quickchartButtonEl.classList.add('colab-df-quickchart-complete');\n",
              "    }\n",
              "    (() => {\n",
              "      let quickchartButtonEl =\n",
              "        document.querySelector('#df-0014d7c9-93ea-409e-abd0-bec024bf7d91 button');\n",
              "      quickchartButtonEl.style.display =\n",
              "        google.colab.kernel.accessAllowed ? 'block' : 'none';\n",
              "    })();\n",
              "  </script>\n",
              "</div>\n",
              "\n",
              "  <div id=\"id_a118aad5-668e-4a95-99a2-8d47fe6e07a5\">\n",
              "    <style>\n",
              "      .colab-df-generate {\n",
              "        background-color: #E8F0FE;\n",
              "        border: none;\n",
              "        border-radius: 50%;\n",
              "        cursor: pointer;\n",
              "        display: none;\n",
              "        fill: #1967D2;\n",
              "        height: 32px;\n",
              "        padding: 0 0 0 0;\n",
              "        width: 32px;\n",
              "      }\n",
              "\n",
              "      .colab-df-generate:hover {\n",
              "        background-color: #E2EBFA;\n",
              "        box-shadow: 0px 1px 2px rgba(60, 64, 67, 0.3), 0px 1px 3px 1px rgba(60, 64, 67, 0.15);\n",
              "        fill: #174EA6;\n",
              "      }\n",
              "\n",
              "      [theme=dark] .colab-df-generate {\n",
              "        background-color: #3B4455;\n",
              "        fill: #D2E3FC;\n",
              "      }\n",
              "\n",
              "      [theme=dark] .colab-df-generate:hover {\n",
              "        background-color: #434B5C;\n",
              "        box-shadow: 0px 1px 3px 1px rgba(0, 0, 0, 0.15);\n",
              "        filter: drop-shadow(0px 1px 2px rgba(0, 0, 0, 0.3));\n",
              "        fill: #FFFFFF;\n",
              "      }\n",
              "    </style>\n",
              "    <button class=\"colab-df-generate\" onclick=\"generateWithVariable('df_jokes')\"\n",
              "            title=\"Generate code using this dataframe.\"\n",
              "            style=\"display:none;\">\n",
              "\n",
              "  <svg xmlns=\"http://www.w3.org/2000/svg\" height=\"24px\"viewBox=\"0 0 24 24\"\n",
              "       width=\"24px\">\n",
              "    <path d=\"M7,19H8.4L18.45,9,17,7.55,7,17.6ZM5,21V16.75L18.45,3.32a2,2,0,0,1,2.83,0l1.4,1.43a1.91,1.91,0,0,1,.58,1.4,1.91,1.91,0,0,1-.58,1.4L9.25,21ZM18.45,9,17,7.55Zm-12,3A5.31,5.31,0,0,0,4.9,8.1,5.31,5.31,0,0,0,1,6.5,5.31,5.31,0,0,0,4.9,4.9,5.31,5.31,0,0,0,6.5,1,5.31,5.31,0,0,0,8.1,4.9,5.31,5.31,0,0,0,12,6.5,5.46,5.46,0,0,0,6.5,12Z\"/>\n",
              "  </svg>\n",
              "    </button>\n",
              "    <script>\n",
              "      (() => {\n",
              "      const buttonEl =\n",
              "        document.querySelector('#id_a118aad5-668e-4a95-99a2-8d47fe6e07a5 button.colab-df-generate');\n",
              "      buttonEl.style.display =\n",
              "        google.colab.kernel.accessAllowed ? 'block' : 'none';\n",
              "\n",
              "      buttonEl.onclick = () => {\n",
              "        google.colab.notebook.generateWithVariable('df_jokes');\n",
              "      }\n",
              "      })();\n",
              "    </script>\n",
              "  </div>\n",
              "\n",
              "    </div>\n",
              "  </div>\n"
            ],
            "application/vnd.google.colaboratory.intrinsic+json": {
              "type": "dataframe",
              "variable_name": "df_jokes",
              "summary": "{\n  \"name\": \"df_jokes\",\n  \"rows\": 140,\n  \"fields\": [\n    {\n      \"column\": \"index\",\n      \"properties\": {\n        \"dtype\": \"number\",\n        \"std\": 40,\n        \"min\": 4,\n        \"max\": 149,\n        \"num_unique_values\": 140,\n        \"samples\": [\n          118,\n          77,\n          41\n        ],\n        \"semantic_type\": \"\",\n        \"description\": \"\"\n      }\n    },\n    {\n      \"column\": \"jokeId\",\n      \"properties\": {\n        \"dtype\": \"number\",\n        \"std\": 40,\n        \"min\": 5,\n        \"max\": 150,\n        \"num_unique_values\": 140,\n        \"samples\": [\n          119,\n          78,\n          42\n        ],\n        \"semantic_type\": \"\",\n        \"description\": \"\"\n      }\n    },\n    {\n      \"column\": \"jokeText\",\n      \"properties\": {\n        \"dtype\": \"string\",\n        \"num_unique_values\": 140,\n        \"samples\": [\n          \"One day the first grade teacher was reading the story of the Three Little Pigs to her class. She came to the part of the story where the first pig was trying to accumulate the building materials for his home. She read, \\\"...and so the pig went up to the man with the wheelbarrow full of straw and said, 'Pardon me sir, but may I have some of that straw to build my house?'\\\" The teacher paused then asked the class, \\\"And what do you think that man said?\\\" One little boy raised his hand and said, \\\"I know...he said, 'Holy Shit! A talking pig!'\\\"\",\n          \"Q: What's the difference between the government  and  the Mafia?\\n\\nA: One of them is organized.\\n\",\n          \"Two men are discussing the age old question: who enjoys sex more, the\\nman or the woman?  A woman walks by and listens in for awhile and then\\ninterrupts: \\n\\\"Listen you guys. You know when your ear itches and you put in your \\nlittle finger and wiggle it around for awhile?  Afterward,\\nwhich feels better, your finger or your ear?\\\"\\n\"\n        ],\n        \"semantic_type\": \"\",\n        \"description\": \"\"\n      }\n    }\n  ]\n}"
            }
          },
          "metadata": {},
          "execution_count": 89
        }
      ]
    },
    {
      "cell_type": "markdown",
      "source": [
        "**Reset the index for proper order**"
      ],
      "metadata": {
        "id": "rBP7Y_lIjW5V"
      }
    },
    {
      "cell_type": "code",
      "source": [
        "df_jokes = df_jokes.drop('index', axis = 1)"
      ],
      "metadata": {
        "id": "9nutcDSdjctD"
      },
      "execution_count": null,
      "outputs": []
    },
    {
      "cell_type": "code",
      "source": [
        "df_jokes.head().style.set_properties(\n",
        "    **{\n",
        "      'background-color':'black',\n",
        "      'color':'white',\n",
        "      'border-color':'white',\n",
        "      'border-style':'solid'\n",
        "    }\n",
        ")"
      ],
      "metadata": {
        "colab": {
          "base_uri": "https://localhost:8080/",
          "height": 220
        },
        "id": "mJ07uacsj2lk",
        "outputId": "020b206c-3222-4a0b-8809-2e1eaa054d30"
      },
      "execution_count": null,
      "outputs": [
        {
          "output_type": "execute_result",
          "data": {
            "text/plain": [
              "<pandas.io.formats.style.Styler at 0x7bde035b53f0>"
            ],
            "text/html": [
              "<style type=\"text/css\">\n",
              "#T_ca620_row0_col0, #T_ca620_row0_col1, #T_ca620_row1_col0, #T_ca620_row1_col1, #T_ca620_row2_col0, #T_ca620_row2_col1, #T_ca620_row3_col0, #T_ca620_row3_col1, #T_ca620_row4_col0, #T_ca620_row4_col1 {\n",
              "  background-color: black;\n",
              "  color: white;\n",
              "  border-color: white;\n",
              "  border-style: solid;\n",
              "}\n",
              "</style>\n",
              "<table id=\"T_ca620\" class=\"dataframe\">\n",
              "  <thead>\n",
              "    <tr>\n",
              "      <th class=\"blank level0\" >&nbsp;</th>\n",
              "      <th id=\"T_ca620_level0_col0\" class=\"col_heading level0 col0\" >jokeId</th>\n",
              "      <th id=\"T_ca620_level0_col1\" class=\"col_heading level0 col1\" >jokeText</th>\n",
              "    </tr>\n",
              "  </thead>\n",
              "  <tbody>\n",
              "    <tr>\n",
              "      <th id=\"T_ca620_level0_row0\" class=\"row_heading level0 row0\" >0</th>\n",
              "      <td id=\"T_ca620_row0_col0\" class=\"data row0 col0\" >5</td>\n",
              "      <td id=\"T_ca620_row0_col1\" class=\"data row0 col1\" >Q.\tWhat's O. J. Simpson's Internet address? \n",
              "A.\tSlash, slash, backslash, slash, slash, escape.\n",
              "</td>\n",
              "    </tr>\n",
              "    <tr>\n",
              "      <th id=\"T_ca620_level0_row1\" class=\"row_heading level0 row1\" >1</th>\n",
              "      <td id=\"T_ca620_row1_col0\" class=\"data row1 col0\" >7</td>\n",
              "      <td id=\"T_ca620_row1_col1\" class=\"data row1 col1\" >How many feminists does it take to screw in a light bulb?\n",
              "That's not funny.\n",
              "</td>\n",
              "    </tr>\n",
              "    <tr>\n",
              "      <th id=\"T_ca620_level0_row2\" class=\"row_heading level0 row2\" >2</th>\n",
              "      <td id=\"T_ca620_row2_col0\" class=\"data row2 col0\" >8</td>\n",
              "      <td id=\"T_ca620_row2_col1\" class=\"data row2 col1\" >Q. Did you hear about the dyslexic devil worshiper? \n",
              "\n",
              "A. He sold his soul to Santa.\n",
              "</td>\n",
              "    </tr>\n",
              "    <tr>\n",
              "      <th id=\"T_ca620_level0_row3\" class=\"row_heading level0 row3\" >3</th>\n",
              "      <td id=\"T_ca620_row3_col0\" class=\"data row3 col0\" >13</td>\n",
              "      <td id=\"T_ca620_row3_col1\" class=\"data row3 col1\" >They asked the Japanese visitor if they have elections in his\n",
              "country.  \n",
              "\"Every Morning\" he answers.\n",
              "</td>\n",
              "    </tr>\n",
              "    <tr>\n",
              "      <th id=\"T_ca620_level0_row4\" class=\"row_heading level0 row4\" >4</th>\n",
              "      <td id=\"T_ca620_row4_col0\" class=\"data row4 col0\" >15</td>\n",
              "      <td id=\"T_ca620_row4_col1\" class=\"data row4 col1\" >Q:  What did the blind person say when given some matzah?\n",
              "\n",
              "A:  Who the hell wrote this?\n",
              "</td>\n",
              "    </tr>\n",
              "  </tbody>\n",
              "</table>\n"
            ]
          },
          "metadata": {},
          "execution_count": 91
        }
      ]
    },
    {
      "cell_type": "markdown",
      "source": [
        "**Adding the rating to the respective jokes**"
      ],
      "metadata": {
        "id": "UCXPHm4VkwME"
      }
    },
    {
      "cell_type": "code",
      "source": [
        "df_jokes['AverageRating'] = a['rating']"
      ],
      "metadata": {
        "id": "17Em1q41k0_B"
      },
      "execution_count": null,
      "outputs": []
    },
    {
      "cell_type": "markdown",
      "source": [
        "<hr>\n",
        "\n",
        "**Finalize dataset for analysis**"
      ],
      "metadata": {
        "id": "bxASEDjNj9KY"
      }
    },
    {
      "cell_type": "code",
      "source": [
        "df_jokes.head().style.set_properties(\n",
        "    **{\n",
        "      'background-color':'black',\n",
        "      'color':'white',\n",
        "      'border-color':'white',\n",
        "      'border-style':'solid'\n",
        "    }\n",
        ")"
      ],
      "metadata": {
        "colab": {
          "base_uri": "https://localhost:8080/",
          "height": 220
        },
        "id": "lcEiAuHPk_7d",
        "outputId": "e08bc26a-ea30-426f-8452-28e037bf9c90"
      },
      "execution_count": null,
      "outputs": [
        {
          "output_type": "execute_result",
          "data": {
            "text/plain": [
              "<pandas.io.formats.style.Styler at 0x7bde035b52a0>"
            ],
            "text/html": [
              "<style type=\"text/css\">\n",
              "#T_31053_row0_col0, #T_31053_row0_col1, #T_31053_row0_col2, #T_31053_row1_col0, #T_31053_row1_col1, #T_31053_row1_col2, #T_31053_row2_col0, #T_31053_row2_col1, #T_31053_row2_col2, #T_31053_row3_col0, #T_31053_row3_col1, #T_31053_row3_col2, #T_31053_row4_col0, #T_31053_row4_col1, #T_31053_row4_col2 {\n",
              "  background-color: black;\n",
              "  color: white;\n",
              "  border-color: white;\n",
              "  border-style: solid;\n",
              "}\n",
              "</style>\n",
              "<table id=\"T_31053\" class=\"dataframe\">\n",
              "  <thead>\n",
              "    <tr>\n",
              "      <th class=\"blank level0\" >&nbsp;</th>\n",
              "      <th id=\"T_31053_level0_col0\" class=\"col_heading level0 col0\" >jokeId</th>\n",
              "      <th id=\"T_31053_level0_col1\" class=\"col_heading level0 col1\" >jokeText</th>\n",
              "      <th id=\"T_31053_level0_col2\" class=\"col_heading level0 col2\" >AverageRating</th>\n",
              "    </tr>\n",
              "  </thead>\n",
              "  <tbody>\n",
              "    <tr>\n",
              "      <th id=\"T_31053_level0_row0\" class=\"row_heading level0 row0\" >0</th>\n",
              "      <td id=\"T_31053_row0_col0\" class=\"data row0 col0\" >5</td>\n",
              "      <td id=\"T_31053_row0_col1\" class=\"data row0 col1\" >Q.\tWhat's O. J. Simpson's Internet address? \n",
              "A.\tSlash, slash, backslash, slash, slash, escape.\n",
              "</td>\n",
              "      <td id=\"T_31053_row0_col2\" class=\"data row0 col2\" >-1160.935000</td>\n",
              "    </tr>\n",
              "    <tr>\n",
              "      <th id=\"T_31053_level0_row1\" class=\"row_heading level0 row1\" >1</th>\n",
              "      <td id=\"T_31053_row1_col0\" class=\"data row1 col0\" >7</td>\n",
              "      <td id=\"T_31053_row1_col1\" class=\"data row1 col1\" >How many feminists does it take to screw in a light bulb?\n",
              "That's not funny.\n",
              "</td>\n",
              "      <td id=\"T_31053_row1_col2\" class=\"data row1 col2\" >-106965.294000</td>\n",
              "    </tr>\n",
              "    <tr>\n",
              "      <th id=\"T_31053_level0_row2\" class=\"row_heading level0 row2\" >2</th>\n",
              "      <td id=\"T_31053_row2_col0\" class=\"data row2 col0\" >8</td>\n",
              "      <td id=\"T_31053_row2_col1\" class=\"data row2 col1\" >Q. Did you hear about the dyslexic devil worshiper? \n",
              "\n",
              "A. He sold his soul to Santa.\n",
              "</td>\n",
              "      <td id=\"T_31053_row2_col2\" class=\"data row2 col2\" >-38788.437000</td>\n",
              "    </tr>\n",
              "    <tr>\n",
              "      <th id=\"T_31053_level0_row3\" class=\"row_heading level0 row3\" >3</th>\n",
              "      <td id=\"T_31053_row3_col0\" class=\"data row3 col0\" >13</td>\n",
              "      <td id=\"T_31053_row3_col1\" class=\"data row3 col1\" >They asked the Japanese visitor if they have elections in his\n",
              "country.  \n",
              "\"Every Morning\" he answers.\n",
              "</td>\n",
              "      <td id=\"T_31053_row3_col2\" class=\"data row3 col2\" >-33249.090000</td>\n",
              "    </tr>\n",
              "    <tr>\n",
              "      <th id=\"T_31053_level0_row4\" class=\"row_heading level0 row4\" >4</th>\n",
              "      <td id=\"T_31053_row4_col0\" class=\"data row4 col0\" >15</td>\n",
              "      <td id=\"T_31053_row4_col1\" class=\"data row4 col1\" >Q:  What did the blind person say when given some matzah?\n",
              "\n",
              "A:  Who the hell wrote this?\n",
              "</td>\n",
              "      <td id=\"T_31053_row4_col2\" class=\"data row4 col2\" >-75646.752000</td>\n",
              "    </tr>\n",
              "  </tbody>\n",
              "</table>\n"
            ]
          },
          "metadata": {},
          "execution_count": 93
        }
      ]
    },
    {
      "cell_type": "markdown",
      "source": [
        "<hr>\n",
        "\n",
        "# **Step 4 - Data Preprocessing**"
      ],
      "metadata": {
        "id": "6eNkvWDrkNaZ"
      }
    },
    {
      "cell_type": "code",
      "source": [
        "df_jokes.isnull().sum().to_frame().style.set_properties(\n",
        "    **{\n",
        "      'background-color':'black',\n",
        "      'color':'white',\n",
        "      'border-color':'white',\n",
        "      'border-style':'solid'\n",
        "    }\n",
        ")"
      ],
      "metadata": {
        "colab": {
          "base_uri": "https://localhost:8080/",
          "height": 152
        },
        "id": "3aHBU4vyj3fv",
        "outputId": "e3aa2c10-ea07-4ccc-ca87-57587f5542c3"
      },
      "execution_count": null,
      "outputs": [
        {
          "output_type": "execute_result",
          "data": {
            "text/plain": [
              "<pandas.io.formats.style.Styler at 0x7bde035b7070>"
            ],
            "text/html": [
              "<style type=\"text/css\">\n",
              "#T_0ccd8_row0_col0, #T_0ccd8_row1_col0, #T_0ccd8_row2_col0 {\n",
              "  background-color: black;\n",
              "  color: white;\n",
              "  border-color: white;\n",
              "  border-style: solid;\n",
              "}\n",
              "</style>\n",
              "<table id=\"T_0ccd8\" class=\"dataframe\">\n",
              "  <thead>\n",
              "    <tr>\n",
              "      <th class=\"blank level0\" >&nbsp;</th>\n",
              "      <th id=\"T_0ccd8_level0_col0\" class=\"col_heading level0 col0\" >0</th>\n",
              "    </tr>\n",
              "  </thead>\n",
              "  <tbody>\n",
              "    <tr>\n",
              "      <th id=\"T_0ccd8_level0_row0\" class=\"row_heading level0 row0\" >jokeId</th>\n",
              "      <td id=\"T_0ccd8_row0_col0\" class=\"data row0 col0\" >0</td>\n",
              "    </tr>\n",
              "    <tr>\n",
              "      <th id=\"T_0ccd8_level0_row1\" class=\"row_heading level0 row1\" >jokeText</th>\n",
              "      <td id=\"T_0ccd8_row1_col0\" class=\"data row1 col0\" >0</td>\n",
              "    </tr>\n",
              "    <tr>\n",
              "      <th id=\"T_0ccd8_level0_row2\" class=\"row_heading level0 row2\" >AverageRating</th>\n",
              "      <td id=\"T_0ccd8_row2_col0\" class=\"data row2 col0\" >0</td>\n",
              "    </tr>\n",
              "  </tbody>\n",
              "</table>\n"
            ]
          },
          "metadata": {},
          "execution_count": 94
        }
      ]
    },
    {
      "cell_type": "markdown",
      "source": [
        "<hr>\n",
        "\n",
        "# **Step 5 - Formulation of Sentiments**\n",
        "\n",
        "**`Strategy`: We would look for the lowest average rating and highest average rating and following the same we would be formulating the three category of sentiments, like Positive, Neutral and Negative**"
      ],
      "metadata": {
        "id": "m6Gn-kHzlTAi"
      }
    },
    {
      "cell_type": "markdown",
      "source": [
        "**a) Describing the data on AverageRating**"
      ],
      "metadata": {
        "id": "4D8X99Fzne3C"
      }
    },
    {
      "cell_type": "code",
      "source": [
        "df_jokes['AverageRating'].describe()"
      ],
      "metadata": {
        "colab": {
          "base_uri": "https://localhost:8080/"
        },
        "id": "TRdMCWYGkUWS",
        "outputId": "3e9ffd05-d36a-4e04-cd29-9dad5956c444"
      },
      "execution_count": null,
      "outputs": [
        {
          "output_type": "execute_result",
          "data": {
            "text/plain": [
              "count       140.000000\n",
              "mean      20364.781400\n",
              "std       29316.603098\n",
              "min     -106965.294000\n",
              "25%        1455.641250\n",
              "50%       16861.956000\n",
              "75%       39383.961500\n",
              "max       93754.722000\n",
              "Name: AverageRating, dtype: float64"
            ]
          },
          "metadata": {},
          "execution_count": 95
        }
      ]
    },
    {
      "cell_type": "code",
      "source": [
        "plt.plot(df_jokes['AverageRating'])"
      ],
      "metadata": {
        "colab": {
          "base_uri": "https://localhost:8080/",
          "height": 447
        },
        "id": "MRaudxTD53He",
        "outputId": "76a96059-a29b-4a9b-dbf2-df0350f9914a"
      },
      "execution_count": null,
      "outputs": [
        {
          "output_type": "execute_result",
          "data": {
            "text/plain": [
              "[<matplotlib.lines.Line2D at 0x7bde03608850>]"
            ]
          },
          "metadata": {},
          "execution_count": 96
        },
        {
          "output_type": "display_data",
          "data": {
            "text/plain": [
              "<Figure size 640x480 with 1 Axes>"
            ],
            "image/png": "[encoded data removed]"
          },
          "metadata": {}
        }
      ]
    },
    {
      "cell_type": "markdown",
      "source": [
        "**b) Defining the Range for categorization**"
      ],
      "metadata": {
        "id": "Q0EUDKxHnkt_"
      }
    },
    {
      "cell_type": "code",
      "source": [
        "# Define the cut points for the categories\n",
        "cuts = [-float('inf'), 0, 50000,float('inf')]"
      ],
      "metadata": {
        "id": "KQBU9mUSl2js"
      },
      "execution_count": null,
      "outputs": []
    },
    {
      "cell_type": "markdown",
      "source": [
        "**c) Defining the Categories**"
      ],
      "metadata": {
        "id": "4BV1JqaMnoG6"
      }
    },
    {
      "cell_type": "code",
      "source": [
        "# Define the labels for the categories\n",
        "labels = ['Bad','Funny', 'Phenomenal']"
      ],
      "metadata": {
        "id": "GWXkvFP8mww8"
      },
      "execution_count": null,
      "outputs": []
    },
    {
      "cell_type": "markdown",
      "source": [
        "**d) Implementing Categories**"
      ],
      "metadata": {
        "id": "q4wJoWcHoF8E"
      }
    },
    {
      "cell_type": "code",
      "source": [
        "# Categorize the data using cut\n",
        "categories = pd.cut(df_jokes['AverageRating'], cuts, labels=labels)"
      ],
      "metadata": {
        "id": "pAZQFHlPm1Z0"
      },
      "execution_count": null,
      "outputs": []
    },
    {
      "cell_type": "markdown",
      "source": [
        "**e) Checking the summary**"
      ],
      "metadata": {
        "id": "FuDe9CisoLdA"
      }
    },
    {
      "cell_type": "code",
      "source": [
        "# Print the categorized data\n",
        "print(categories.value_counts())"
      ],
      "metadata": {
        "colab": {
          "base_uri": "https://localhost:8080/"
        },
        "id": "KBaqwGxJm3wY",
        "outputId": "8a3450e6-90b3-4b04-c761-7a904db2e607"
      },
      "execution_count": null,
      "outputs": [
        {
          "output_type": "stream",
          "name": "stdout",
          "text": [
            "Funny         96\n",
            "Bad           22\n",
            "Phenomenal    22\n",
            "Name: AverageRating, dtype: int64\n"
          ]
        }
      ]
    },
    {
      "cell_type": "markdown",
      "source": [
        "**f) Checking the data**"
      ],
      "metadata": {
        "id": "1A0sx_SGoNiS"
      }
    },
    {
      "cell_type": "code",
      "source": [
        "df_jokes.head().style.set_properties(\n",
        "    **{\n",
        "      'background-color':'black',\n",
        "      'color':'white',\n",
        "      'border-color':'white',\n",
        "      'border-style':'solid'\n",
        "    }\n",
        ")"
      ],
      "metadata": {
        "colab": {
          "base_uri": "https://localhost:8080/",
          "height": 220
        },
        "id": "RQcSkvANnJjO",
        "outputId": "a1616bb1-ac2c-4ab9-ee02-aa85a713345e"
      },
      "execution_count": null,
      "outputs": [
        {
          "output_type": "execute_result",
          "data": {
            "text/plain": [
              "<pandas.io.formats.style.Styler at 0x7bde03707550>"
            ],
            "text/html": [
              "<style type=\"text/css\">\n",
              "#T_d1a53_row0_col0, #T_d1a53_row0_col1, #T_d1a53_row0_col2, #T_d1a53_row1_col0, #T_d1a53_row1_col1, #T_d1a53_row1_col2, #T_d1a53_row2_col0, #T_d1a53_row2_col1, #T_d1a53_row2_col2, #T_d1a53_row3_col0, #T_d1a53_row3_col1, #T_d1a53_row3_col2, #T_d1a53_row4_col0, #T_d1a53_row4_col1, #T_d1a53_row4_col2 {\n",
              "  background-color: black;\n",
              "  color: white;\n",
              "  border-color: white;\n",
              "  border-style: solid;\n",
              "}\n",
              "</style>\n",
              "<table id=\"T_d1a53\" class=\"dataframe\">\n",
              "  <thead>\n",
              "    <tr>\n",
              "      <th class=\"blank level0\" >&nbsp;</th>\n",
              "      <th id=\"T_d1a53_level0_col0\" class=\"col_heading level0 col0\" >jokeId</th>\n",
              "      <th id=\"T_d1a53_level0_col1\" class=\"col_heading level0 col1\" >jokeText</th>\n",
              "      <th id=\"T_d1a53_level0_col2\" class=\"col_heading level0 col2\" >AverageRating</th>\n",
              "    </tr>\n",
              "  </thead>\n",
              "  <tbody>\n",
              "    <tr>\n",
              "      <th id=\"T_d1a53_level0_row0\" class=\"row_heading level0 row0\" >0</th>\n",
              "      <td id=\"T_d1a53_row0_col0\" class=\"data row0 col0\" >5</td>\n",
              "      <td id=\"T_d1a53_row0_col1\" class=\"data row0 col1\" >Q.\tWhat's O. J. Simpson's Internet address? \n",
              "A.\tSlash, slash, backslash, slash, slash, escape.\n",
              "</td>\n",
              "      <td id=\"T_d1a53_row0_col2\" class=\"data row0 col2\" >-1160.935000</td>\n",
              "    </tr>\n",
              "    <tr>\n",
              "      <th id=\"T_d1a53_level0_row1\" class=\"row_heading level0 row1\" >1</th>\n",
              "      <td id=\"T_d1a53_row1_col0\" class=\"data row1 col0\" >7</td>\n",
              "      <td id=\"T_d1a53_row1_col1\" class=\"data row1 col1\" >How many feminists does it take to screw in a light bulb?\n",
              "That's not funny.\n",
              "</td>\n",
              "      <td id=\"T_d1a53_row1_col2\" class=\"data row1 col2\" >-106965.294000</td>\n",
              "    </tr>\n",
              "    <tr>\n",
              "      <th id=\"T_d1a53_level0_row2\" class=\"row_heading level0 row2\" >2</th>\n",
              "      <td id=\"T_d1a53_row2_col0\" class=\"data row2 col0\" >8</td>\n",
              "      <td id=\"T_d1a53_row2_col1\" class=\"data row2 col1\" >Q. Did you hear about the dyslexic devil worshiper? \n",
              "\n",
              "A. He sold his soul to Santa.\n",
              "</td>\n",
              "      <td id=\"T_d1a53_row2_col2\" class=\"data row2 col2\" >-38788.437000</td>\n",
              "    </tr>\n",
              "    <tr>\n",
              "      <th id=\"T_d1a53_level0_row3\" class=\"row_heading level0 row3\" >3</th>\n",
              "      <td id=\"T_d1a53_row3_col0\" class=\"data row3 col0\" >13</td>\n",
              "      <td id=\"T_d1a53_row3_col1\" class=\"data row3 col1\" >They asked the Japanese visitor if they have elections in his\n",
              "country.  \n",
              "\"Every Morning\" he answers.\n",
              "</td>\n",
              "      <td id=\"T_d1a53_row3_col2\" class=\"data row3 col2\" >-33249.090000</td>\n",
              "    </tr>\n",
              "    <tr>\n",
              "      <th id=\"T_d1a53_level0_row4\" class=\"row_heading level0 row4\" >4</th>\n",
              "      <td id=\"T_d1a53_row4_col0\" class=\"data row4 col0\" >15</td>\n",
              "      <td id=\"T_d1a53_row4_col1\" class=\"data row4 col1\" >Q:  What did the blind person say when given some matzah?\n",
              "\n",
              "A:  Who the hell wrote this?\n",
              "</td>\n",
              "      <td id=\"T_d1a53_row4_col2\" class=\"data row4 col2\" >-75646.752000</td>\n",
              "    </tr>\n",
              "  </tbody>\n",
              "</table>\n"
            ]
          },
          "metadata": {},
          "execution_count": 101
        }
      ]
    },
    {
      "cell_type": "markdown",
      "source": [
        "**g) Appending the data into the normal dataset**"
      ],
      "metadata": {
        "id": "FLbjBtR3odLA"
      }
    },
    {
      "cell_type": "code",
      "source": [
        "df_jokes['Sentiments'] = categories"
      ],
      "metadata": {
        "id": "6kM76UJ8oRHe"
      },
      "execution_count": null,
      "outputs": []
    },
    {
      "cell_type": "markdown",
      "source": [
        "**h) Checking the data again**"
      ],
      "metadata": {
        "id": "BkZGtff2o0RE"
      }
    },
    {
      "cell_type": "code",
      "source": [
        "df_jokes.head().style.set_properties(\n",
        "    **{\n",
        "      'background-color':'black',\n",
        "      'color':'white',\n",
        "      'border-color':'white',\n",
        "      'border-style':'solid'\n",
        "    }\n",
        ")"
      ],
      "metadata": {
        "colab": {
          "base_uri": "https://localhost:8080/",
          "height": 220
        },
        "id": "tUW9q5xVo2LA",
        "outputId": "b27db9ba-996d-4ed7-8344-2de0067fd3d2"
      },
      "execution_count": null,
      "outputs": [
        {
          "output_type": "execute_result",
          "data": {
            "text/plain": [
              "<pandas.io.formats.style.Styler at 0x7bde03787190>"
            ],
            "text/html": [
              "<style type=\"text/css\">\n",
              "#T_2b273_row0_col0, #T_2b273_row0_col1, #T_2b273_row0_col2, #T_2b273_row0_col3, #T_2b273_row1_col0, #T_2b273_row1_col1, #T_2b273_row1_col2, #T_2b273_row1_col3, #T_2b273_row2_col0, #T_2b273_row2_col1, #T_2b273_row2_col2, #T_2b273_row2_col3, #T_2b273_row3_col0, #T_2b273_row3_col1, #T_2b273_row3_col2, #T_2b273_row3_col3, #T_2b273_row4_col0, #T_2b273_row4_col1, #T_2b273_row4_col2, #T_2b273_row4_col3 {\n",
              "  background-color: black;\n",
              "  color: white;\n",
              "  border-color: white;\n",
              "  border-style: solid;\n",
              "}\n",
              "</style>\n",
              "<table id=\"T_2b273\" class=\"dataframe\">\n",
              "  <thead>\n",
              "    <tr>\n",
              "      <th class=\"blank level0\" >&nbsp;</th>\n",
              "      <th id=\"T_2b273_level0_col0\" class=\"col_heading level0 col0\" >jokeId</th>\n",
              "      <th id=\"T_2b273_level0_col1\" class=\"col_heading level0 col1\" >jokeText</th>\n",
              "      <th id=\"T_2b273_level0_col2\" class=\"col_heading level0 col2\" >AverageRating</th>\n",
              "      <th id=\"T_2b273_level0_col3\" class=\"col_heading level0 col3\" >Sentiments</th>\n",
              "    </tr>\n",
              "  </thead>\n",
              "  <tbody>\n",
              "    <tr>\n",
              "      <th id=\"T_2b273_level0_row0\" class=\"row_heading level0 row0\" >0</th>\n",
              "      <td id=\"T_2b273_row0_col0\" class=\"data row0 col0\" >5</td>\n",
              "      <td id=\"T_2b273_row0_col1\" class=\"data row0 col1\" >Q.\tWhat's O. J. Simpson's Internet address? \n",
              "A.\tSlash, slash, backslash, slash, slash, escape.\n",
              "</td>\n",
              "      <td id=\"T_2b273_row0_col2\" class=\"data row0 col2\" >-1160.935000</td>\n",
              "      <td id=\"T_2b273_row0_col3\" class=\"data row0 col3\" >Bad</td>\n",
              "    </tr>\n",
              "    <tr>\n",
              "      <th id=\"T_2b273_level0_row1\" class=\"row_heading level0 row1\" >1</th>\n",
              "      <td id=\"T_2b273_row1_col0\" class=\"data row1 col0\" >7</td>\n",
              "      <td id=\"T_2b273_row1_col1\" class=\"data row1 col1\" >How many feminists does it take to screw in a light bulb?\n",
              "That's not funny.\n",
              "</td>\n",
              "      <td id=\"T_2b273_row1_col2\" class=\"data row1 col2\" >-106965.294000</td>\n",
              "      <td id=\"T_2b273_row1_col3\" class=\"data row1 col3\" >Bad</td>\n",
              "    </tr>\n",
              "    <tr>\n",
              "      <th id=\"T_2b273_level0_row2\" class=\"row_heading level0 row2\" >2</th>\n",
              "      <td id=\"T_2b273_row2_col0\" class=\"data row2 col0\" >8</td>\n",
              "      <td id=\"T_2b273_row2_col1\" class=\"data row2 col1\" >Q. Did you hear about the dyslexic devil worshiper? \n",
              "\n",
              "A. He sold his soul to Santa.\n",
              "</td>\n",
              "      <td id=\"T_2b273_row2_col2\" class=\"data row2 col2\" >-38788.437000</td>\n",
              "      <td id=\"T_2b273_row2_col3\" class=\"data row2 col3\" >Bad</td>\n",
              "    </tr>\n",
              "    <tr>\n",
              "      <th id=\"T_2b273_level0_row3\" class=\"row_heading level0 row3\" >3</th>\n",
              "      <td id=\"T_2b273_row3_col0\" class=\"data row3 col0\" >13</td>\n",
              "      <td id=\"T_2b273_row3_col1\" class=\"data row3 col1\" >They asked the Japanese visitor if they have elections in his\n",
              "country.  \n",
              "\"Every Morning\" he answers.\n",
              "</td>\n",
              "      <td id=\"T_2b273_row3_col2\" class=\"data row3 col2\" >-33249.090000</td>\n",
              "      <td id=\"T_2b273_row3_col3\" class=\"data row3 col3\" >Bad</td>\n",
              "    </tr>\n",
              "    <tr>\n",
              "      <th id=\"T_2b273_level0_row4\" class=\"row_heading level0 row4\" >4</th>\n",
              "      <td id=\"T_2b273_row4_col0\" class=\"data row4 col0\" >15</td>\n",
              "      <td id=\"T_2b273_row4_col1\" class=\"data row4 col1\" >Q:  What did the blind person say when given some matzah?\n",
              "\n",
              "A:  Who the hell wrote this?\n",
              "</td>\n",
              "      <td id=\"T_2b273_row4_col2\" class=\"data row4 col2\" >-75646.752000</td>\n",
              "      <td id=\"T_2b273_row4_col3\" class=\"data row4 col3\" >Bad</td>\n",
              "    </tr>\n",
              "  </tbody>\n",
              "</table>\n"
            ]
          },
          "metadata": {},
          "execution_count": 103
        }
      ]
    },
    {
      "cell_type": "markdown",
      "source": [
        "**i) Encoding the columns as numeric**"
      ],
      "metadata": {
        "id": "M9dfMF5cv04a"
      }
    },
    {
      "cell_type": "code",
      "source": [
        "df_jokes['EncodedSentiments'] = df_jokes['Sentiments'].map({\n",
        "    'Bad':0,\n",
        "    'Funny':1,\n",
        "    'Phenomenal':2,\n",
        "})"
      ],
      "metadata": {
        "id": "9_FGn3Juo3Tc"
      },
      "execution_count": null,
      "outputs": []
    },
    {
      "cell_type": "markdown",
      "source": [
        "**h) Checking the data again**"
      ],
      "metadata": {
        "id": "VA0r1d8lwxXM"
      }
    },
    {
      "cell_type": "code",
      "source": [
        "df_jokes.head().style.set_properties(\n",
        "    **{\n",
        "      'background-color':'black',\n",
        "      'color':'white',\n",
        "      'border-color':'white',\n",
        "      'border-style':'solid'\n",
        "    }\n",
        ")"
      ],
      "metadata": {
        "colab": {
          "base_uri": "https://localhost:8080/",
          "height": 220
        },
        "outputId": "58b87caf-e253-4116-e88a-c7ee766b1a3e",
        "id": "O4wE8VMSwxXN"
      },
      "execution_count": null,
      "outputs": [
        {
          "output_type": "execute_result",
          "data": {
            "text/plain": [
              "<pandas.io.formats.style.Styler at 0x7bde035b5990>"
            ],
            "text/html": [
              "<style type=\"text/css\">\n",
              "#T_e6876_row0_col0, #T_e6876_row0_col1, #T_e6876_row0_col2, #T_e6876_row0_col3, #T_e6876_row0_col4, #T_e6876_row1_col0, #T_e6876_row1_col1, #T_e6876_row1_col2, #T_e6876_row1_col3, #T_e6876_row1_col4, #T_e6876_row2_col0, #T_e6876_row2_col1, #T_e6876_row2_col2, #T_e6876_row2_col3, #T_e6876_row2_col4, #T_e6876_row3_col0, #T_e6876_row3_col1, #T_e6876_row3_col2, #T_e6876_row3_col3, #T_e6876_row3_col4, #T_e6876_row4_col0, #T_e6876_row4_col1, #T_e6876_row4_col2, #T_e6876_row4_col3, #T_e6876_row4_col4 {\n",
              "  background-color: black;\n",
              "  color: white;\n",
              "  border-color: white;\n",
              "  border-style: solid;\n",
              "}\n",
              "</style>\n",
              "<table id=\"T_e6876\" class=\"dataframe\">\n",
              "  <thead>\n",
              "    <tr>\n",
              "      <th class=\"blank level0\" >&nbsp;</th>\n",
              "      <th id=\"T_e6876_level0_col0\" class=\"col_heading level0 col0\" >jokeId</th>\n",
              "      <th id=\"T_e6876_level0_col1\" class=\"col_heading level0 col1\" >jokeText</th>\n",
              "      <th id=\"T_e6876_level0_col2\" class=\"col_heading level0 col2\" >AverageRating</th>\n",
              "      <th id=\"T_e6876_level0_col3\" class=\"col_heading level0 col3\" >Sentiments</th>\n",
              "      <th id=\"T_e6876_level0_col4\" class=\"col_heading level0 col4\" >EncodedSentiments</th>\n",
              "    </tr>\n",
              "  </thead>\n",
              "  <tbody>\n",
              "    <tr>\n",
              "      <th id=\"T_e6876_level0_row0\" class=\"row_heading level0 row0\" >0</th>\n",
              "      <td id=\"T_e6876_row0_col0\" class=\"data row0 col0\" >5</td>\n",
              "      <td id=\"T_e6876_row0_col1\" class=\"data row0 col1\" >Q.\tWhat's O. J. Simpson's Internet address? \n",
              "A.\tSlash, slash, backslash, slash, slash, escape.\n",
              "</td>\n",
              "      <td id=\"T_e6876_row0_col2\" class=\"data row0 col2\" >-1160.935000</td>\n",
              "      <td id=\"T_e6876_row0_col3\" class=\"data row0 col3\" >Bad</td>\n",
              "      <td id=\"T_e6876_row0_col4\" class=\"data row0 col4\" >0</td>\n",
              "    </tr>\n",
              "    <tr>\n",
              "      <th id=\"T_e6876_level0_row1\" class=\"row_heading level0 row1\" >1</th>\n",
              "      <td id=\"T_e6876_row1_col0\" class=\"data row1 col0\" >7</td>\n",
              "      <td id=\"T_e6876_row1_col1\" class=\"data row1 col1\" >How many feminists does it take to screw in a light bulb?\n",
              "That's not funny.\n",
              "</td>\n",
              "      <td id=\"T_e6876_row1_col2\" class=\"data row1 col2\" >-106965.294000</td>\n",
              "      <td id=\"T_e6876_row1_col3\" class=\"data row1 col3\" >Bad</td>\n",
              "      <td id=\"T_e6876_row1_col4\" class=\"data row1 col4\" >0</td>\n",
              "    </tr>\n",
              "    <tr>\n",
              "      <th id=\"T_e6876_level0_row2\" class=\"row_heading level0 row2\" >2</th>\n",
              "      <td id=\"T_e6876_row2_col0\" class=\"data row2 col0\" >8</td>\n",
              "      <td id=\"T_e6876_row2_col1\" class=\"data row2 col1\" >Q. Did you hear about the dyslexic devil worshiper? \n",
              "\n",
              "A. He sold his soul to Santa.\n",
              "</td>\n",
              "      <td id=\"T_e6876_row2_col2\" class=\"data row2 col2\" >-38788.437000</td>\n",
              "      <td id=\"T_e6876_row2_col3\" class=\"data row2 col3\" >Bad</td>\n",
              "      <td id=\"T_e6876_row2_col4\" class=\"data row2 col4\" >0</td>\n",
              "    </tr>\n",
              "    <tr>\n",
              "      <th id=\"T_e6876_level0_row3\" class=\"row_heading level0 row3\" >3</th>\n",
              "      <td id=\"T_e6876_row3_col0\" class=\"data row3 col0\" >13</td>\n",
              "      <td id=\"T_e6876_row3_col1\" class=\"data row3 col1\" >They asked the Japanese visitor if they have elections in his\n",
              "country.  \n",
              "\"Every Morning\" he answers.\n",
              "</td>\n",
              "      <td id=\"T_e6876_row3_col2\" class=\"data row3 col2\" >-33249.090000</td>\n",
              "      <td id=\"T_e6876_row3_col3\" class=\"data row3 col3\" >Bad</td>\n",
              "      <td id=\"T_e6876_row3_col4\" class=\"data row3 col4\" >0</td>\n",
              "    </tr>\n",
              "    <tr>\n",
              "      <th id=\"T_e6876_level0_row4\" class=\"row_heading level0 row4\" >4</th>\n",
              "      <td id=\"T_e6876_row4_col0\" class=\"data row4 col0\" >15</td>\n",
              "      <td id=\"T_e6876_row4_col1\" class=\"data row4 col1\" >Q:  What did the blind person say when given some matzah?\n",
              "\n",
              "A:  Who the hell wrote this?\n",
              "</td>\n",
              "      <td id=\"T_e6876_row4_col2\" class=\"data row4 col2\" >-75646.752000</td>\n",
              "      <td id=\"T_e6876_row4_col3\" class=\"data row4 col3\" >Bad</td>\n",
              "      <td id=\"T_e6876_row4_col4\" class=\"data row4 col4\" >0</td>\n",
              "    </tr>\n",
              "  </tbody>\n",
              "</table>\n"
            ]
          },
          "metadata": {},
          "execution_count": 105
        }
      ]
    },
    {
      "cell_type": "markdown",
      "source": [
        "<hr>\n",
        "\n",
        "# **Step 6 - Feature Generation using Bag of Words**"
      ],
      "metadata": {
        "id": "KCsloKq-w8tH"
      }
    },
    {
      "cell_type": "markdown",
      "source": [
        "**A) Creating the token**"
      ],
      "metadata": {
        "id": "xEcTH4puxVfd"
      }
    },
    {
      "cell_type": "code",
      "source": [
        "token = RegexpTokenizer(r'[a-zA-Z0-9]+')"
      ],
      "metadata": {
        "id": "PYJjU-Dkw3sX"
      },
      "execution_count": null,
      "outputs": []
    },
    {
      "cell_type": "code",
      "source": [
        "cv = CountVectorizer(lowercase=True, stop_words='english',ngram_range = (1,1),tokenizer = token.tokenize)"
      ],
      "metadata": {
        "id": "VYmaqunSxU4g"
      },
      "execution_count": null,
      "outputs": []
    },
    {
      "cell_type": "code",
      "source": [
        "text_counts= cv.fit_transform(df_jokes['jokeText'])"
      ],
      "metadata": {
        "id": "oh1uMMctxbwa"
      },
      "execution_count": null,
      "outputs": []
    },
    {
      "cell_type": "markdown",
      "source": [
        "**B) Training the Model**"
      ],
      "metadata": {
        "id": "B-Qsbm-6xjpe"
      }
    },
    {
      "cell_type": "code",
      "source": [
        "x_train, x_test, y_train, y_test = train_test_split(text_counts, df_jokes['EncodedSentiments'], test_size = 0.3, random_state = 42)"
      ],
      "metadata": {
        "id": "JYnsNwxnxgxU"
      },
      "execution_count": null,
      "outputs": []
    },
    {
      "cell_type": "markdown",
      "source": [
        "**C) Helper Functions for Formulation**"
      ],
      "metadata": {
        "id": "6w_EXQsNx9Td"
      }
    },
    {
      "cell_type": "code",
      "source": [
        "# Model Function\n",
        "def ModelBuilding_Evaluation(model, x_train, x_test, y_train, y_test):\n",
        "  model.fit(x_train, y_train)\n",
        "  pred = model.predict(x_test)\n",
        "  print(f'Accuracy Score: {accuracy_score(y_test, pred)}')"
      ],
      "metadata": {
        "id": "yf76u6_AyhZ1"
      },
      "execution_count": null,
      "outputs": []
    },
    {
      "cell_type": "markdown",
      "source": [
        "**D) Implementation of Model**"
      ],
      "metadata": {
        "id": "f1UbMcuTzhbQ"
      }
    },
    {
      "cell_type": "code",
      "source": [
        "# IMPLEMENTING THE DECISION TREE\n",
        "model = DecisionTreeClassifier()\n",
        "res = ModelBuilding_Evaluation(model,x_train, x_test, y_train, y_test)"
      ],
      "metadata": {
        "colab": {
          "base_uri": "https://localhost:8080/"
        },
        "id": "9CGpzzzRzfbf",
        "outputId": "803b1d15-f456-406c-b27e-e6e73962ef26"
      },
      "execution_count": null,
      "outputs": [
        {
          "output_type": "stream",
          "name": "stdout",
          "text": [
            "Accuracy Score: 0.6904761904761905\n"
          ]
        }
      ]
    },
    {
      "cell_type": "code",
      "source": [
        "# IMPLEMENTING THE LOGISTIC REGRESSION\n",
        "model = LogisticRegression()\n",
        "res = ModelBuilding_Evaluation(model,x_train, x_test, y_train, y_test)"
      ],
      "metadata": {
        "colab": {
          "base_uri": "https://localhost:8080/"
        },
        "id": "IuI2gdzdz8nh",
        "outputId": "01e729f9-4db7-45e1-9fdf-9affaf5751d2"
      },
      "execution_count": null,
      "outputs": [
        {
          "output_type": "stream",
          "name": "stdout",
          "text": [
            "Accuracy Score: 0.6904761904761905\n"
          ]
        }
      ]
    },
    {
      "cell_type": "code",
      "source": [
        "# IMPLEMENTING THE RANDOM FOREST\n",
        "model = RandomForestClassifier()\n",
        "res = ModelBuilding_Evaluation(model,x_train, x_test, y_train, y_test)"
      ],
      "metadata": {
        "colab": {
          "base_uri": "https://localhost:8080/"
        },
        "id": "nIZoUOgW0Aj1",
        "outputId": "cf894a3a-e6df-4120-c23a-cad2b667f047"
      },
      "execution_count": null,
      "outputs": [
        {
          "output_type": "stream",
          "name": "stdout",
          "text": [
            "Accuracy Score: 0.7619047619047619\n"
          ]
        }
      ]
    },
    {
      "cell_type": "code",
      "source": [
        "# IMPLEMENTING THE XGBOOST\n",
        "model = XGBClassifier()\n",
        "res = ModelBuilding_Evaluation(model,x_train, x_test, y_train, y_test)"
      ],
      "metadata": {
        "colab": {
          "base_uri": "https://localhost:8080/"
        },
        "outputId": "0f59cd05-6e89-475e-c910-5e7f2ad43528",
        "id": "4riHa4F-3hzl"
      },
      "execution_count": null,
      "outputs": [
        {
          "output_type": "stream",
          "name": "stdout",
          "text": [
            "Accuracy Score: 0.6428571428571429\n"
          ]
        }
      ]
    },
    {
      "cell_type": "markdown",
      "source": [
        "<hr>\n",
        "\n",
        "# **Step 7 - Using TFID-Vectorizer**"
      ],
      "metadata": {
        "id": "7STvQmv82aTo"
      }
    },
    {
      "cell_type": "markdown",
      "source": [
        "**A) Initializing the TFID-Vectorizer**"
      ],
      "metadata": {
        "id": "yK5StkS02ouo"
      }
    },
    {
      "cell_type": "code",
      "source": [
        "tf=TfidfVectorizer()\n",
        "text_tf= tf.fit_transform(df_jokes['jokeText'])"
      ],
      "metadata": {
        "id": "dNhpOGlr0lva"
      },
      "execution_count": null,
      "outputs": []
    },
    {
      "cell_type": "markdown",
      "source": [
        "**B) Splitting the data**"
      ],
      "metadata": {
        "id": "X2Qh_pUg29kU"
      }
    },
    {
      "cell_type": "code",
      "source": [
        "x_train, x_test, y_train, y_test = train_test_split(text_tf, df_jokes['EncodedSentiments'], test_size = 0.3, random_state = 42)"
      ],
      "metadata": {
        "id": "Oq8vYcXC2_gE"
      },
      "execution_count": null,
      "outputs": []
    },
    {
      "cell_type": "markdown",
      "source": [
        "**C) Model Implementation**"
      ],
      "metadata": {
        "id": "u0Lqz8Q-2yEg"
      }
    },
    {
      "cell_type": "code",
      "source": [
        "# IMPLEMENTING THE DECISION TREE\n",
        "model = DecisionTreeClassifier()\n",
        "res = ModelBuilding_Evaluation(model,x_train, x_test, y_train, y_test)"
      ],
      "metadata": {
        "colab": {
          "base_uri": "https://localhost:8080/"
        },
        "outputId": "f9a079ed-a54d-4187-99d4-8793d6b5cc10",
        "id": "2UJiTYkT21r-"
      },
      "execution_count": null,
      "outputs": [
        {
          "output_type": "stream",
          "name": "stdout",
          "text": [
            "Accuracy Score: 0.6666666666666666\n"
          ]
        }
      ]
    },
    {
      "cell_type": "code",
      "source": [
        "# IMPLEMENTING THE LOGISTIC REGRESSION\n",
        "model = LogisticRegression()\n",
        "res = ModelBuilding_Evaluation(model,x_train, x_test, y_train, y_test)"
      ],
      "metadata": {
        "colab": {
          "base_uri": "https://localhost:8080/"
        },
        "outputId": "ae4fcd55-b8a4-41d5-d41d-b7e9379f860e",
        "id": "nylylItH21r-"
      },
      "execution_count": null,
      "outputs": [
        {
          "output_type": "stream",
          "name": "stdout",
          "text": [
            "Accuracy Score: 0.7619047619047619\n"
          ]
        }
      ]
    },
    {
      "cell_type": "code",
      "source": [
        "# IMPLEMENTING THE RANDOM FOREST\n",
        "model = RandomForestClassifier()\n",
        "res = ModelBuilding_Evaluation(model,x_train, x_test, y_train, y_test)"
      ],
      "metadata": {
        "colab": {
          "base_uri": "https://localhost:8080/"
        },
        "outputId": "44dfc069-d0b8-4ae9-f9c0-cce8d07eaac7",
        "id": "0QbEcL_521r_"
      },
      "execution_count": null,
      "outputs": [
        {
          "output_type": "stream",
          "name": "stdout",
          "text": [
            "Accuracy Score: 0.7619047619047619\n"
          ]
        }
      ]
    },
    {
      "cell_type": "code",
      "source": [
        "# IMPLEMENTING THE XGBOOST\n",
        "model = XGBClassifier()\n",
        "res = ModelBuilding_Evaluation(model,x_train, x_test, y_train, y_test)"
      ],
      "metadata": {
        "colab": {
          "base_uri": "https://localhost:8080/"
        },
        "outputId": "ff2e639a-152c-4b68-d408-628054ebc66d",
        "id": "Bst5VivY3nh7"
      },
      "execution_count": null,
      "outputs": [
        {
          "output_type": "stream",
          "name": "stdout",
          "text": [
            "Accuracy Score: 0.6428571428571429\n"
          ]
        }
      ]
    },
    {
      "cell_type": "code",
      "source": [],
      "metadata": {
        "id": "xpdHpJko4N9N"
      },
      "execution_count": null,
      "outputs": []
    }
  ]
}